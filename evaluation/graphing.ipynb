{
 "cells": [
  {
   "cell_type": "code",
   "execution_count": 1,
   "metadata": {},
   "outputs": [],
   "source": [
    "import json\n",
    "import plotly_express as px\n",
    "import numpy as np\n",
    "import plotly.graph_objects as go\n",
    "# plotly subplots\n",
    "from plotly.subplots import make_subplots\n",
    "\n",
    "our_16k_path = \"results/eval_results_layer20_width16k_ninputs200.json\"\n",
    "gemma_16k_path = \"results/eval_results_gemmascope_layer20_width16k_l0s_139_22_294_38_71_ninputs200.json\"\n",
    "our_65k_path = \"results/eval_results_layer20_width65k_ninputs200.json\"\n",
    "gemma_65k_path = \"results/eval_results_gemmascope_layer20_width65k_l0s_114_20_221_34_61_ninputs200.json\"\n",
    "\n",
    "our_16k_9b_path = \"results/eval_results_layer20_width16k_ninputs200_9b.json\"\n",
    "our_32k_9b_path = \"results/eval_results_layer20_width32k_ninputs200_9b.json\"\n",
    "gemma_16k_9b_path = \"results/eval_results_gemmascope_layer20_width16k_ninputs200-9b.json\"\n",
    "gemma_32k_9b_path = \"results/eval_results_gemmascope_layer20_width32k_ninputs200-9b.json\"\n",
    "\n",
    "def load_json_file(path):\n",
    "    with open(path, 'r') as f:\n",
    "        return json.load(f)\n",
    "\n",
    "(our_16k_data, our_65k_data, gemma_16k_data, gemma_65k_data,\n",
    " our_16k_9b_data, our_32k_9b_data, gemma_16k_9b_data, gemma_32k_9b_data) = [\n",
    "    load_json_file(p) for p in [\n",
    "        our_16k_path, our_65k_path, gemma_16k_path, gemma_65k_path,\n",
    "        our_16k_9b_path, our_32k_9b_path, gemma_16k_9b_path, gemma_32k_9b_path\n",
    "    ]\n",
    "]"
   ]
  },
  {
   "cell_type": "code",
   "execution_count": 6,
   "metadata": {},
   "outputs": [
    {
     "data": {
      "application/vnd.plotly.v1+json": {
       "config": {
        "plotlyServerURL": "https://plot.ly"
       },
       "data": [
        {
         "legendgroup": "ours",
         "line": {
          "color": "#636EFA",
          "dash": "solid",
          "width": 5
         },
         "marker": {
          "size": 12,
          "symbol": "circle"
         },
         "mode": "lines+markers",
         "name": "Our SAE",
         "showlegend": true,
         "type": "scatter",
         "x": [
          18.7971337890625,
          34.8091943359375,
          58.2791796875,
          122.336005859375,
          222.349736328125,
          360.7735693359375
         ],
         "xaxis": "x",
         "y": [
          0.86,
          0.87564453125,
          0.88849609375,
          0.9066015625,
          0.916015625,
          0.91748046875
         ],
         "yaxis": "y"
        },
        {
         "legendgroup": "gemma",
         "line": {
          "color": "#EF553B",
          "dash": "solid",
          "width": 5
         },
         "marker": {
          "size": 12,
          "symbol": "circle"
         },
         "mode": "lines+markers",
         "name": "GemmaScope SAE",
         "showlegend": true,
         "type": "scatter",
         "x": [
          22.6335298538208,
          40.16366771697998,
          76.59480045318604,
          152.31977714538573,
          313.53044342041017
         ],
         "xaxis": "x",
         "y": [
          0.6422265625,
          0.68318359375,
          0.7276171875,
          0.77224609375,
          0.8232421875
         ],
         "yaxis": "y"
        },
        {
         "legendgroup": "ours",
         "line": {
          "color": "#636EFA",
          "dash": "dash",
          "width": 5
         },
         "marker": {
          "size": 12,
          "symbol": "circle"
         },
         "mode": "lines+markers",
         "name": "Our SAE",
         "showlegend": false,
         "type": "scatter",
         "x": [
          17.1726953125,
          27.5861767578125,
          43.5634375,
          73.004189453125,
          134.1006201171875,
          272.9419873046875
         ],
         "xaxis": "x",
         "y": [
          0.8826171875,
          0.8955078125,
          0.906953125,
          0.9173828125,
          0.92498046875,
          0.932109375
         ],
         "yaxis": "y"
        },
        {
         "legendgroup": "gemma",
         "line": {
          "color": "#EF553B",
          "dash": "dash",
          "width": 5
         },
         "marker": {
          "size": 12,
          "symbol": "circle"
         },
         "mode": "lines+markers",
         "name": "GemmaScope SAE",
         "showlegend": false,
         "type": "scatter",
         "x": [
          21.512322492599488,
          36.373988513946536,
          64.05273630142212,
          119.38513919830322,
          241.35627159118653
         ],
         "xaxis": "x",
         "y": [
          0.70294921875,
          0.74076171875,
          0.7773046875,
          0.81392578125,
          0.85279296875
         ],
         "yaxis": "y"
        },
        {
         "legendgroup": "ours",
         "line": {
          "color": "#636EFA",
          "dash": "solid",
          "width": 5
         },
         "marker": {
          "size": 12,
          "symbol": "circle"
         },
         "mode": "lines+markers",
         "name": "Our SAE",
         "showlegend": false,
         "type": "scatter",
         "x": [
          17.14177734375,
          31.78025390625,
          57.6209033203125,
          118.3580810546875,
          224.380615234375,
          440.3301123046875
         ],
         "xaxis": "x2",
         "y": [
          0.83875,
          0.85490234375,
          0.869609375,
          0.886875,
          0.89783203125,
          0.91087890625
         ],
         "yaxis": "y2"
        },
        {
         "legendgroup": "ours",
         "line": {
          "color": "#636EFA",
          "dash": "dash",
          "width": 5
         },
         "marker": {
          "size": 12,
          "symbol": "circle"
         },
         "mode": "lines+markers",
         "name": "Our SAE",
         "showlegend": false,
         "type": "scatter",
         "x": [
          16.8319873046875,
          27.5696240234375,
          56.870859375,
          98.8058642578125,
          215.4338427734375,
          398.029189453125
         ],
         "xaxis": "x2",
         "y": [
          0.8514453125,
          0.86556640625,
          0.88197265625,
          0.8924609375,
          0.9066015625,
          0.91544921875
         ],
         "yaxis": "y2"
        },
        {
         "legendgroup": "gemma",
         "line": {
          "color": "#EF553B",
          "dash": "solid",
          "width": 5
         },
         "marker": {
          "size": 12,
          "symbol": "circle"
         },
         "mode": "lines+markers",
         "name": "GemmaScope SAE",
         "showlegend": false,
         "type": "scatter",
         "x": [
          11.156475143432617,
          19.662725944519043,
          36.351931190490724,
          58.529964199066164,
          68.60614864349365,
          145.12886955261231,
          349.6590867614746,
          470.62955078125
         ],
         "xaxis": "x2",
         "y": [
          0.6134765625,
          0.65078125,
          0.68970703125,
          0.717890625,
          0.7278515625,
          0.77126953125,
          0.82638671875,
          0.848359375
         ],
         "yaxis": "y2"
        },
        {
         "legendgroup": "gemma",
         "line": {
          "color": "#EF553B",
          "dash": "dash",
          "width": 5
         },
         "marker": {
          "size": 12,
          "symbol": "circle"
         },
         "mode": "lines+markers",
         "name": "GemmaScope SAE",
         "showlegend": false,
         "type": "scatter",
         "x": [
          10.93445186138153,
          56.81004552841186,
          373.9029344177246
         ],
         "xaxis": "x2",
         "y": [
          0.6327734375,
          0.738984375,
          0.84953125
         ],
         "yaxis": "y2"
        }
       ],
       "layout": {
        "annotations": [
         {
          "font": {
           "size": 24
          },
          "showarrow": false,
          "text": "Gemma-2-2B",
          "x": 0.2375,
          "xanchor": "center",
          "xref": "paper",
          "y": 1,
          "yanchor": "bottom",
          "yref": "paper"
         },
         {
          "font": {
           "size": 24
          },
          "showarrow": false,
          "text": "Gemma-2-9B",
          "x": 0.7625,
          "xanchor": "center",
          "xref": "paper",
          "y": 1,
          "yanchor": "bottom",
          "yref": "paper"
         },
         {
          "font": {
           "size": 20
          },
          "showarrow": false,
          "text": "16k",
          "x": 0.98,
          "xanchor": "right",
          "xref": "x domain",
          "y": 0.15,
          "yanchor": "bottom",
          "yref": "y domain"
         },
         {
          "font": {
           "size": 20
          },
          "showarrow": false,
          "text": "65k",
          "x": 0.98,
          "xanchor": "right",
          "xref": "x domain",
          "y": 0.07,
          "yanchor": "bottom",
          "yref": "y domain"
         },
         {
          "font": {
           "size": 20
          },
          "showarrow": false,
          "text": "16k",
          "x": 0.98,
          "xanchor": "right",
          "xref": "x2 domain",
          "y": 0.15,
          "yanchor": "bottom",
          "yref": "y2 domain"
         },
         {
          "font": {
           "size": 20
          },
          "showarrow": false,
          "text": "32k",
          "x": 0.98,
          "xanchor": "right",
          "xref": "x2 domain",
          "y": 0.07,
          "yanchor": "bottom",
          "yref": "y2 domain"
         }
        ],
        "font": {
         "family": "Arial",
         "size": 20
        },
        "height": 500,
        "legend": {
         "itemsizing": "constant",
         "orientation": "h",
         "x": 0.5,
         "xanchor": "center",
         "y": -0.2,
         "yanchor": "top"
        },
        "margin": {
         "b": 80,
         "l": 80,
         "r": 30,
         "t": 50
        },
        "paper_bgcolor": "white",
        "plot_bgcolor": "white",
        "shapes": [
         {
          "line": {
           "color": "black",
           "width": 5
          },
          "type": "line",
          "x0": 0.75,
          "x1": 0.95,
          "xref": "x domain",
          "y0": 0.15,
          "y1": 0.15,
          "yref": "y domain"
         },
         {
          "line": {
           "color": "black",
           "dash": "dash",
           "width": 5
          },
          "type": "line",
          "x0": 0.75,
          "x1": 0.95,
          "xref": "x domain",
          "y0": 0.07,
          "y1": 0.07,
          "yref": "y domain"
         },
         {
          "line": {
           "color": "black",
           "width": 5
          },
          "type": "line",
          "x0": 0.75,
          "x1": 0.95,
          "xref": "x2 domain",
          "y0": 0.15,
          "y1": 0.15,
          "yref": "y2 domain"
         },
         {
          "line": {
           "color": "black",
           "dash": "dash",
           "width": 5
          },
          "type": "line",
          "x0": 0.75,
          "x1": 0.95,
          "xref": "x2 domain",
          "y0": 0.07,
          "y1": 0.07,
          "yref": "y2 domain"
         }
        ],
        "template": {
         "data": {
          "bar": [
           {
            "error_x": {
             "color": "#2a3f5f"
            },
            "error_y": {
             "color": "#2a3f5f"
            },
            "marker": {
             "line": {
              "color": "#E5ECF6",
              "width": 0.5
             },
             "pattern": {
              "fillmode": "overlay",
              "size": 10,
              "solidity": 0.2
             }
            },
            "type": "bar"
           }
          ],
          "barpolar": [
           {
            "marker": {
             "line": {
              "color": "#E5ECF6",
              "width": 0.5
             },
             "pattern": {
              "fillmode": "overlay",
              "size": 10,
              "solidity": 0.2
             }
            },
            "type": "barpolar"
           }
          ],
          "carpet": [
           {
            "aaxis": {
             "endlinecolor": "#2a3f5f",
             "gridcolor": "white",
             "linecolor": "white",
             "minorgridcolor": "white",
             "startlinecolor": "#2a3f5f"
            },
            "baxis": {
             "endlinecolor": "#2a3f5f",
             "gridcolor": "white",
             "linecolor": "white",
             "minorgridcolor": "white",
             "startlinecolor": "#2a3f5f"
            },
            "type": "carpet"
           }
          ],
          "choropleth": [
           {
            "colorbar": {
             "outlinewidth": 0,
             "ticks": ""
            },
            "type": "choropleth"
           }
          ],
          "contour": [
           {
            "colorbar": {
             "outlinewidth": 0,
             "ticks": ""
            },
            "colorscale": [
             [
              0,
              "#0d0887"
             ],
             [
              0.1111111111111111,
              "#46039f"
             ],
             [
              0.2222222222222222,
              "#7201a8"
             ],
             [
              0.3333333333333333,
              "#9c179e"
             ],
             [
              0.4444444444444444,
              "#bd3786"
             ],
             [
              0.5555555555555556,
              "#d8576b"
             ],
             [
              0.6666666666666666,
              "#ed7953"
             ],
             [
              0.7777777777777778,
              "#fb9f3a"
             ],
             [
              0.8888888888888888,
              "#fdca26"
             ],
             [
              1,
              "#f0f921"
             ]
            ],
            "type": "contour"
           }
          ],
          "contourcarpet": [
           {
            "colorbar": {
             "outlinewidth": 0,
             "ticks": ""
            },
            "type": "contourcarpet"
           }
          ],
          "heatmap": [
           {
            "colorbar": {
             "outlinewidth": 0,
             "ticks": ""
            },
            "colorscale": [
             [
              0,
              "#0d0887"
             ],
             [
              0.1111111111111111,
              "#46039f"
             ],
             [
              0.2222222222222222,
              "#7201a8"
             ],
             [
              0.3333333333333333,
              "#9c179e"
             ],
             [
              0.4444444444444444,
              "#bd3786"
             ],
             [
              0.5555555555555556,
              "#d8576b"
             ],
             [
              0.6666666666666666,
              "#ed7953"
             ],
             [
              0.7777777777777778,
              "#fb9f3a"
             ],
             [
              0.8888888888888888,
              "#fdca26"
             ],
             [
              1,
              "#f0f921"
             ]
            ],
            "type": "heatmap"
           }
          ],
          "histogram": [
           {
            "marker": {
             "pattern": {
              "fillmode": "overlay",
              "size": 10,
              "solidity": 0.2
             }
            },
            "type": "histogram"
           }
          ],
          "histogram2d": [
           {
            "colorbar": {
             "outlinewidth": 0,
             "ticks": ""
            },
            "colorscale": [
             [
              0,
              "#0d0887"
             ],
             [
              0.1111111111111111,
              "#46039f"
             ],
             [
              0.2222222222222222,
              "#7201a8"
             ],
             [
              0.3333333333333333,
              "#9c179e"
             ],
             [
              0.4444444444444444,
              "#bd3786"
             ],
             [
              0.5555555555555556,
              "#d8576b"
             ],
             [
              0.6666666666666666,
              "#ed7953"
             ],
             [
              0.7777777777777778,
              "#fb9f3a"
             ],
             [
              0.8888888888888888,
              "#fdca26"
             ],
             [
              1,
              "#f0f921"
             ]
            ],
            "type": "histogram2d"
           }
          ],
          "histogram2dcontour": [
           {
            "colorbar": {
             "outlinewidth": 0,
             "ticks": ""
            },
            "colorscale": [
             [
              0,
              "#0d0887"
             ],
             [
              0.1111111111111111,
              "#46039f"
             ],
             [
              0.2222222222222222,
              "#7201a8"
             ],
             [
              0.3333333333333333,
              "#9c179e"
             ],
             [
              0.4444444444444444,
              "#bd3786"
             ],
             [
              0.5555555555555556,
              "#d8576b"
             ],
             [
              0.6666666666666666,
              "#ed7953"
             ],
             [
              0.7777777777777778,
              "#fb9f3a"
             ],
             [
              0.8888888888888888,
              "#fdca26"
             ],
             [
              1,
              "#f0f921"
             ]
            ],
            "type": "histogram2dcontour"
           }
          ],
          "mesh3d": [
           {
            "colorbar": {
             "outlinewidth": 0,
             "ticks": ""
            },
            "type": "mesh3d"
           }
          ],
          "parcoords": [
           {
            "line": {
             "colorbar": {
              "outlinewidth": 0,
              "ticks": ""
             }
            },
            "type": "parcoords"
           }
          ],
          "pie": [
           {
            "automargin": true,
            "type": "pie"
           }
          ],
          "scatter": [
           {
            "fillpattern": {
             "fillmode": "overlay",
             "size": 10,
             "solidity": 0.2
            },
            "type": "scatter"
           }
          ],
          "scatter3d": [
           {
            "line": {
             "colorbar": {
              "outlinewidth": 0,
              "ticks": ""
             }
            },
            "marker": {
             "colorbar": {
              "outlinewidth": 0,
              "ticks": ""
             }
            },
            "type": "scatter3d"
           }
          ],
          "scattercarpet": [
           {
            "marker": {
             "colorbar": {
              "outlinewidth": 0,
              "ticks": ""
             }
            },
            "type": "scattercarpet"
           }
          ],
          "scattergeo": [
           {
            "marker": {
             "colorbar": {
              "outlinewidth": 0,
              "ticks": ""
             }
            },
            "type": "scattergeo"
           }
          ],
          "scattergl": [
           {
            "marker": {
             "colorbar": {
              "outlinewidth": 0,
              "ticks": ""
             }
            },
            "type": "scattergl"
           }
          ],
          "scattermap": [
           {
            "marker": {
             "colorbar": {
              "outlinewidth": 0,
              "ticks": ""
             }
            },
            "type": "scattermap"
           }
          ],
          "scattermapbox": [
           {
            "marker": {
             "colorbar": {
              "outlinewidth": 0,
              "ticks": ""
             }
            },
            "type": "scattermapbox"
           }
          ],
          "scatterpolar": [
           {
            "marker": {
             "colorbar": {
              "outlinewidth": 0,
              "ticks": ""
             }
            },
            "type": "scatterpolar"
           }
          ],
          "scatterpolargl": [
           {
            "marker": {
             "colorbar": {
              "outlinewidth": 0,
              "ticks": ""
             }
            },
            "type": "scatterpolargl"
           }
          ],
          "scatterternary": [
           {
            "marker": {
             "colorbar": {
              "outlinewidth": 0,
              "ticks": ""
             }
            },
            "type": "scatterternary"
           }
          ],
          "surface": [
           {
            "colorbar": {
             "outlinewidth": 0,
             "ticks": ""
            },
            "colorscale": [
             [
              0,
              "#0d0887"
             ],
             [
              0.1111111111111111,
              "#46039f"
             ],
             [
              0.2222222222222222,
              "#7201a8"
             ],
             [
              0.3333333333333333,
              "#9c179e"
             ],
             [
              0.4444444444444444,
              "#bd3786"
             ],
             [
              0.5555555555555556,
              "#d8576b"
             ],
             [
              0.6666666666666666,
              "#ed7953"
             ],
             [
              0.7777777777777778,
              "#fb9f3a"
             ],
             [
              0.8888888888888888,
              "#fdca26"
             ],
             [
              1,
              "#f0f921"
             ]
            ],
            "type": "surface"
           }
          ],
          "table": [
           {
            "cells": {
             "fill": {
              "color": "#EBF0F8"
             },
             "line": {
              "color": "white"
             }
            },
            "header": {
             "fill": {
              "color": "#C8D4E3"
             },
             "line": {
              "color": "white"
             }
            },
            "type": "table"
           }
          ]
         },
         "layout": {
          "annotationdefaults": {
           "arrowcolor": "#2a3f5f",
           "arrowhead": 0,
           "arrowwidth": 1
          },
          "autotypenumbers": "strict",
          "coloraxis": {
           "colorbar": {
            "outlinewidth": 0,
            "ticks": ""
           }
          },
          "colorscale": {
           "diverging": [
            [
             0,
             "#8e0152"
            ],
            [
             0.1,
             "#c51b7d"
            ],
            [
             0.2,
             "#de77ae"
            ],
            [
             0.3,
             "#f1b6da"
            ],
            [
             0.4,
             "#fde0ef"
            ],
            [
             0.5,
             "#f7f7f7"
            ],
            [
             0.6,
             "#e6f5d0"
            ],
            [
             0.7,
             "#b8e186"
            ],
            [
             0.8,
             "#7fbc41"
            ],
            [
             0.9,
             "#4d9221"
            ],
            [
             1,
             "#276419"
            ]
           ],
           "sequential": [
            [
             0,
             "#0d0887"
            ],
            [
             0.1111111111111111,
             "#46039f"
            ],
            [
             0.2222222222222222,
             "#7201a8"
            ],
            [
             0.3333333333333333,
             "#9c179e"
            ],
            [
             0.4444444444444444,
             "#bd3786"
            ],
            [
             0.5555555555555556,
             "#d8576b"
            ],
            [
             0.6666666666666666,
             "#ed7953"
            ],
            [
             0.7777777777777778,
             "#fb9f3a"
            ],
            [
             0.8888888888888888,
             "#fdca26"
            ],
            [
             1,
             "#f0f921"
            ]
           ],
           "sequentialminus": [
            [
             0,
             "#0d0887"
            ],
            [
             0.1111111111111111,
             "#46039f"
            ],
            [
             0.2222222222222222,
             "#7201a8"
            ],
            [
             0.3333333333333333,
             "#9c179e"
            ],
            [
             0.4444444444444444,
             "#bd3786"
            ],
            [
             0.5555555555555556,
             "#d8576b"
            ],
            [
             0.6666666666666666,
             "#ed7953"
            ],
            [
             0.7777777777777778,
             "#fb9f3a"
            ],
            [
             0.8888888888888888,
             "#fdca26"
            ],
            [
             1,
             "#f0f921"
            ]
           ]
          },
          "colorway": [
           "#636efa",
           "#EF553B",
           "#00cc96",
           "#ab63fa",
           "#FFA15A",
           "#19d3f3",
           "#FF6692",
           "#B6E880",
           "#FF97FF",
           "#FECB52"
          ],
          "font": {
           "color": "#2a3f5f"
          },
          "geo": {
           "bgcolor": "white",
           "lakecolor": "white",
           "landcolor": "#E5ECF6",
           "showlakes": true,
           "showland": true,
           "subunitcolor": "white"
          },
          "hoverlabel": {
           "align": "left"
          },
          "hovermode": "closest",
          "mapbox": {
           "style": "light"
          },
          "paper_bgcolor": "white",
          "plot_bgcolor": "#E5ECF6",
          "polar": {
           "angularaxis": {
            "gridcolor": "white",
            "linecolor": "white",
            "ticks": ""
           },
           "bgcolor": "#E5ECF6",
           "radialaxis": {
            "gridcolor": "white",
            "linecolor": "white",
            "ticks": ""
           }
          },
          "scene": {
           "xaxis": {
            "backgroundcolor": "#E5ECF6",
            "gridcolor": "white",
            "gridwidth": 2,
            "linecolor": "white",
            "showbackground": true,
            "ticks": "",
            "zerolinecolor": "white"
           },
           "yaxis": {
            "backgroundcolor": "#E5ECF6",
            "gridcolor": "white",
            "gridwidth": 2,
            "linecolor": "white",
            "showbackground": true,
            "ticks": "",
            "zerolinecolor": "white"
           },
           "zaxis": {
            "backgroundcolor": "#E5ECF6",
            "gridcolor": "white",
            "gridwidth": 2,
            "linecolor": "white",
            "showbackground": true,
            "ticks": "",
            "zerolinecolor": "white"
           }
          },
          "shapedefaults": {
           "line": {
            "color": "#2a3f5f"
           }
          },
          "ternary": {
           "aaxis": {
            "gridcolor": "white",
            "linecolor": "white",
            "ticks": ""
           },
           "baxis": {
            "gridcolor": "white",
            "linecolor": "white",
            "ticks": ""
           },
           "bgcolor": "#E5ECF6",
           "caxis": {
            "gridcolor": "white",
            "linecolor": "white",
            "ticks": ""
           }
          },
          "title": {
           "x": 0.05
          },
          "xaxis": {
           "automargin": true,
           "gridcolor": "white",
           "linecolor": "white",
           "ticks": "",
           "title": {
            "standoff": 15
           },
           "zerolinecolor": "white",
           "zerolinewidth": 2
          },
          "yaxis": {
           "automargin": true,
           "gridcolor": "white",
           "linecolor": "white",
           "ticks": "",
           "title": {
            "standoff": 15
           },
           "zerolinecolor": "white",
           "zerolinewidth": 2
          }
         }
        },
        "width": 1200,
        "xaxis": {
         "anchor": "y",
         "domain": [
          0,
          0.475
         ],
         "gridcolor": "lightgray",
         "gridwidth": 1,
         "showgrid": true,
         "title": {
          "text": "L0"
         },
         "zeroline": true,
         "zerolinecolor": "lightgray",
         "zerolinewidth": 1
        },
        "xaxis2": {
         "anchor": "y2",
         "domain": [
          0.525,
          1
         ],
         "gridcolor": "lightgray",
         "gridwidth": 1,
         "showgrid": true,
         "title": {
          "text": "L0"
         },
         "zeroline": true,
         "zerolinecolor": "lightgray",
         "zerolinewidth": 1
        },
        "yaxis": {
         "anchor": "x",
         "domain": [
          0,
          1
         ],
         "gridcolor": "lightgray",
         "gridwidth": 1,
         "range": [
          0.5975449218750001,
          0.948041015625
         ],
         "showgrid": true,
         "title": {
          "text": "Fraction of Variance Explained"
         },
         "zeroline": true,
         "zerolinecolor": "lightgray",
         "zerolinewidth": 1
        },
        "yaxis2": {
         "anchor": "x2",
         "domain": [
          0,
          1
         ],
         "gridcolor": "lightgray",
         "gridwidth": 1,
         "range": [
          0.5975449218750001,
          0.948041015625
         ],
         "showgrid": true,
         "zeroline": true,
         "zerolinecolor": "lightgray",
         "zerolinewidth": 1
        }
       }
      }
     },
     "metadata": {},
     "output_type": "display_data"
    }
   ],
   "source": [
    "# For our_data (our_16k_data)\n",
    "l0s_sorted, frac_variance_explained_sorted = map(list, zip(*sorted(\n",
    "    (d['l0'], d['frac_variance_explained']) for d in our_16k_data.values()\n",
    ")))\n",
    "\n",
    "# For gemma_data (gemma_16k_data)\n",
    "gemma_l0s_sorted, gemma_frac_variance_explained_sorted = map(list, zip(*sorted(\n",
    "    (d['l0'], d['frac_variance_explained']) for d in gemma_16k_data.values()\n",
    ")))\n",
    "\n",
    "# For our 65k data\n",
    "l0s_sorted_65k, frac_variance_explained_sorted_65k = map(list, zip(*sorted(\n",
    "    (d['l0'], d['frac_variance_explained']) for d in our_65k_data.values()\n",
    ")))\n",
    "\n",
    "# For gemma 65k data\n",
    "gemma_l0s_sorted_65k, gemma_frac_variance_explained_sorted_65k = map(list, zip(*sorted(\n",
    "    (d['l0'], d['frac_variance_explained']) for d in gemma_65k_data.values()\n",
    ")))\n",
    "\n",
    "# For our 16k 9b data\n",
    "l0s_sorted_9b, frac_variance_explained_sorted_9b = map(list, zip(*sorted(\n",
    "    (d['l0'], d['frac_variance_explained']) for d in our_16k_9b_data.values()\n",
    ")))\n",
    "\n",
    "# For our 32k 9b data\n",
    "our_32k_l0s_sorted_9b, our_32k_frac_variance_explained_sorted_9b = map(list, zip(*sorted(\n",
    "    (d['l0'], d['frac_variance_explained']) for d in our_32k_9b_data.values()\n",
    ")))\n",
    "\n",
    "# For gemma 16k 9b data\n",
    "gemma_l0s_sorted_9b, gemma_frac_variance_explained_sorted_9b = map(list, zip(*sorted(\n",
    "    (d['l0'], d['frac_variance_explained']) for d in gemma_16k_9b_data.values()\n",
    ")))\n",
    "\n",
    "# For gemma 32k 9b data\n",
    "gemma_32k_l0s_sorted_9b, gemma_32k_frac_variance_explained_sorted_9b = map(list, zip(*sorted(\n",
    "    (d['l0'], d['frac_variance_explained']) for d in gemma_32k_9b_data.values()\n",
    ")))\n",
    "\n",
    "\n",
    "# Style parameters\n",
    "BASE_FONT_SIZE = 20\n",
    "BASE_LINE_WIDTH = 5\n",
    "BASE_MARKER_SIZE = 12\n",
    "\n",
    "# Color scheme\n",
    "MODEL_COLORS = {\n",
    "    'ours': '#636EFA', #'#2E5894',  # Deep blue\n",
    "    'gemma': '#EF553B' #'#943D2E'  # Deep red\n",
    "}\n",
    "\n",
    "# colors: '#636EFA', '#EF553B', '#00CC96', '#AB63FA',\n",
    "\n",
    "# Create subplot figure\n",
    "fig = make_subplots(\n",
    "    rows=1, cols=2,\n",
    "    subplot_titles=(\"Gemma-2-2B\", \"Gemma-2-9B\"),\n",
    "    horizontal_spacing=0.05,\n",
    ")\n",
    "fig.update_annotations(font_size=BASE_FONT_SIZE * 1.2)\n",
    "\n",
    "\n",
    "# Function to add traces with consistent styling\n",
    "def add_model_trace(x, y, model_type, width, show_in_legend, row=1, col=1):\n",
    "    \"\"\"\n",
    "    Add a trace with consistent styling based on model type and width.\n",
    "    model_type: 'ours' or 'gemma'\n",
    "    width: '16k', '32k', or '65k'\n",
    "    show_in_legend: whether to show in bottom legend\n",
    "    \"\"\"\n",
    "    dash_style = 'solid' if width == '16k' else 'dash'\n",
    "    \n",
    "    return fig.add_trace(\n",
    "        go.Scatter(\n",
    "            x=x,\n",
    "            y=y,\n",
    "            mode='lines+markers',\n",
    "            name=f\"{'Our' if model_type == 'ours' else 'GemmaScope'} SAE\",\n",
    "            marker=dict(\n",
    "                symbol='circle',\n",
    "                size=BASE_MARKER_SIZE,\n",
    "            ),\n",
    "            line=dict(\n",
    "                color=MODEL_COLORS[model_type],\n",
    "                dash=dash_style,\n",
    "                width=BASE_LINE_WIDTH\n",
    "            ),\n",
    "            legendgroup=model_type,\n",
    "            showlegend=show_in_legend\n",
    "        ),\n",
    "        row=row, col=col\n",
    "    )\n",
    "\n",
    "\n",
    "# Add traces for first subplot (2.7B model)\n",
    "add_model_trace(l0s_sorted, frac_variance_explained_sorted, 'ours', '16k', True, 1, 1)\n",
    "add_model_trace(gemma_l0s_sorted, gemma_frac_variance_explained_sorted, 'gemma', '16k', True, 1, 1)\n",
    "add_model_trace(l0s_sorted_65k, frac_variance_explained_sorted_65k, 'ours', '65k', False, 1, 1)\n",
    "add_model_trace(gemma_l0s_sorted_65k, gemma_frac_variance_explained_sorted_65k, 'gemma', '65k', False, 1, 1)\n",
    "\n",
    "# Add traces for second subplot (9B model)\n",
    "add_model_trace(l0s_sorted_9b, frac_variance_explained_sorted_9b, 'ours', '16k', False, 1, 2)\n",
    "add_model_trace(our_32k_l0s_sorted_9b, our_32k_frac_variance_explained_sorted_9b, 'ours', '32k', False, 1, 2)\n",
    "add_model_trace(gemma_l0s_sorted_9b, gemma_frac_variance_explained_sorted_9b, 'gemma', '16k', False, 1, 2)\n",
    "add_model_trace(gemma_32k_l0s_sorted_9b, gemma_32k_frac_variance_explained_sorted_9b, 'gemma', '32k', False, 1, 2)\n",
    "\n",
    "# Add line style legends as annotations\n",
    "# For 2.7B plot\n",
    "fig.add_annotation(\n",
    "    xref=\"x domain\", yref=\"y domain\",\n",
    "    x=0.98, y=0.15,\n",
    "    text=\"16k\",\n",
    "    showarrow=False,\n",
    "    font=dict(size=BASE_FONT_SIZE),\n",
    "    xanchor=\"right\",\n",
    "    yanchor=\"bottom\"\n",
    ")\n",
    "\n",
    "fig.add_shape(\n",
    "    type=\"line\",\n",
    "    xref=\"x domain\", yref=\"y domain\",\n",
    "    x0=0.75, x1=0.95,\n",
    "    y0=0.15, y1=0.15,\n",
    "    line=dict(color=\"black\", width=BASE_LINE_WIDTH)\n",
    ")\n",
    "\n",
    "fig.add_annotation(\n",
    "    xref=\"x domain\", yref=\"y domain\",\n",
    "    x=0.98, y=0.07,\n",
    "    text=\"65k\",\n",
    "    showarrow=False,\n",
    "    font=dict(size=BASE_FONT_SIZE),\n",
    "    xanchor=\"right\",\n",
    "    yanchor=\"bottom\"\n",
    ")\n",
    "\n",
    "fig.add_shape(\n",
    "    type=\"line\",\n",
    "    xref=\"x domain\", yref=\"y domain\",\n",
    "    x0=0.75, x1=0.95,\n",
    "    y0=0.07, y1=0.07,\n",
    "    line=dict(color=\"black\", width=BASE_LINE_WIDTH, dash=\"dash\")\n",
    ")\n",
    "\n",
    "# For 9B plot\n",
    "fig.add_annotation(\n",
    "    xref=\"x2 domain\", yref=\"y2 domain\",\n",
    "    x=0.98, y=0.15,\n",
    "    text=\"16k\",\n",
    "    showarrow=False,\n",
    "    font=dict(size=BASE_FONT_SIZE),\n",
    "    xanchor=\"right\",\n",
    "    yanchor=\"bottom\"\n",
    ")\n",
    "\n",
    "fig.add_shape(\n",
    "    type=\"line\",\n",
    "    xref=\"x2 domain\", yref=\"y2 domain\",\n",
    "    x0=0.75, x1=0.95,\n",
    "    y0=0.15, y1=0.15,\n",
    "    line=dict(color=\"black\", width=BASE_LINE_WIDTH)\n",
    ")\n",
    "\n",
    "fig.add_annotation(\n",
    "    xref=\"x2 domain\", yref=\"y2 domain\",\n",
    "    x=0.98, y=0.07,\n",
    "    text=\"32k\",\n",
    "    showarrow=False,\n",
    "    font=dict(size=BASE_FONT_SIZE),\n",
    "    xanchor=\"right\",\n",
    "    yanchor=\"bottom\"\n",
    ")\n",
    "\n",
    "fig.add_shape(\n",
    "    type=\"line\",\n",
    "    xref=\"x2 domain\", yref=\"y2 domain\",\n",
    "    x0=0.75, x1=0.95,\n",
    "    y0=0.07, y1=0.07,\n",
    "    line=dict(color=\"black\", width=BASE_LINE_WIDTH, dash=\"dash\")\n",
    ")\n",
    "\n",
    "# Update layout\n",
    "fig.update_layout(\n",
    "    width=1200,\n",
    "    height=500,\n",
    "    margin=dict(l=80, r=30, t=50, b=80),\n",
    "    plot_bgcolor='white',\n",
    "    paper_bgcolor='white',\n",
    "    font=dict(\n",
    "        family='Arial',\n",
    "        size=BASE_FONT_SIZE,\n",
    "    ),\n",
    "    legend=dict(\n",
    "        x=0.5,\n",
    "        y=-0.2,\n",
    "        xanchor='center',\n",
    "        yanchor='top',\n",
    "        orientation='h',\n",
    "        itemsizing='constant'\n",
    "    ),\n",
    "    yaxis=dict(\n",
    "        title='Fraction of Variance Explained',\n",
    "        showgrid=True,\n",
    "        gridwidth=1,\n",
    "        gridcolor='lightgray',\n",
    "        zeroline=True,\n",
    "        zerolinewidth=1,\n",
    "        zerolinecolor='lightgray',\n",
    "    ),\n",
    "    yaxis2=dict(\n",
    "        showgrid=True,\n",
    "        gridwidth=1,\n",
    "        gridcolor='lightgray',\n",
    "        zeroline=True,\n",
    "        zerolinewidth=1,\n",
    "        zerolinecolor='lightgray',\n",
    "    ),\n",
    "    xaxis=dict(\n",
    "        title='L0',\n",
    "        showgrid=True,\n",
    "        gridwidth=1,\n",
    "        gridcolor='lightgray',\n",
    "        zeroline=True,\n",
    "        zerolinewidth=1,\n",
    "        zerolinecolor='lightgray',\n",
    "    ),\n",
    "    xaxis2=dict(\n",
    "        title='L0',\n",
    "        showgrid=True,\n",
    "        gridwidth=1,\n",
    "        gridcolor='lightgray',\n",
    "        zeroline=True,\n",
    "        zerolinewidth=1,\n",
    "        zerolinecolor='lightgray',\n",
    "    )\n",
    ")\n",
    "\n",
    "# Ensure y-axis ranges are the same\n",
    "y_min = min(\n",
    "    min(frac_variance_explained_sorted),\n",
    "    min(gemma_frac_variance_explained_sorted),\n",
    "    min(frac_variance_explained_sorted_65k),\n",
    "    min(gemma_frac_variance_explained_sorted_65k),\n",
    "    min(frac_variance_explained_sorted_9b),\n",
    "    min(our_32k_frac_variance_explained_sorted_9b),\n",
    "    min(gemma_frac_variance_explained_sorted_9b),\n",
    "    min(gemma_32k_frac_variance_explained_sorted_9b)\n",
    ")\n",
    "\n",
    "y_max = max(\n",
    "    max(frac_variance_explained_sorted),\n",
    "    max(gemma_frac_variance_explained_sorted),\n",
    "    max(frac_variance_explained_sorted_65k),\n",
    "    max(gemma_frac_variance_explained_sorted_65k),\n",
    "    max(frac_variance_explained_sorted_9b),\n",
    "    max(our_32k_frac_variance_explained_sorted_9b),\n",
    "    max(gemma_frac_variance_explained_sorted_9b),\n",
    "    max(gemma_32k_frac_variance_explained_sorted_9b)\n",
    ")\n",
    "\n",
    "padding = (y_max - y_min) * 0.05\n",
    "fig.update_yaxes(range=[y_min - padding, y_max + padding])\n",
    "\n",
    "# Save as pdf to \"figures\" folder\n",
    "\n",
    "# Save figure as PDF\n",
    "fig.write_image(\"results/figures/frac_variance_explained.pdf\")\n",
    "\n",
    "fig.show()"
   ]
  },
  {
   "cell_type": "code",
   "execution_count": 5,
   "metadata": {},
   "outputs": [
    {
     "data": {
      "text/plain": [
       "['#636EFA',\n",
       " '#EF553B',\n",
       " '#00CC96',\n",
       " '#AB63FA',\n",
       " '#FFA15A',\n",
       " '#19D3F3',\n",
       " '#FF6692',\n",
       " '#B6E880',\n",
       " '#FF97FF',\n",
       " '#FECB52']"
      ]
     },
     "execution_count": 5,
     "metadata": {},
     "output_type": "execute_result"
    }
   ],
   "source": [
    "import plotly\n",
    "\n",
    "plotly.colors.qualitative.Plotly"
   ]
  },
  {
   "cell_type": "markdown",
   "metadata": {},
   "source": [
    "## Loss Recovered"
   ]
  },
  {
   "cell_type": "code",
   "execution_count": 7,
   "metadata": {},
   "outputs": [
    {
     "data": {
      "application/vnd.plotly.v1+json": {
       "config": {
        "plotlyServerURL": "https://plot.ly"
       },
       "data": [
        {
         "legendgroup": "ours",
         "line": {
          "color": "#636EFA",
          "dash": "solid",
          "width": 5
         },
         "marker": {
          "size": 12,
          "symbol": "circle"
         },
         "mode": "lines+markers",
         "name": "Our SAE",
         "showlegend": true,
         "type": "scatter",
         "x": [
          18.7971337890625,
          34.8091943359375,
          58.2791796875,
          122.336005859375,
          222.349736328125,
          360.7735693359375
         ],
         "xaxis": "x",
         "y": [
          0.9834961556294537,
          0.9885183074244231,
          0.9904899221215954,
          0.9937062014512903,
          0.9946166028140603,
          0.9953112645109133
         ],
         "yaxis": "y"
        },
        {
         "legendgroup": "gemma",
         "line": {
          "color": "#EF553B",
          "dash": "solid",
          "width": 5
         },
         "marker": {
          "size": 12,
          "symbol": "circle"
         },
         "mode": "lines+markers",
         "name": "GemmaScope SAE",
         "showlegend": true,
         "type": "scatter",
         "x": [
          22.6335298538208,
          40.16366771697998,
          76.59480045318604,
          152.31977714538573,
          313.53044342041017
         ],
         "xaxis": "x",
         "y": [
          0.9389920648651967,
          0.9474001009802896,
          0.9636195532019386,
          0.9726150594120296,
          0.976616452081918
         ],
         "yaxis": "y"
        },
        {
         "legendgroup": "ours",
         "line": {
          "color": "#636EFA",
          "dash": "dash",
          "width": 5
         },
         "marker": {
          "size": 12,
          "symbol": "circle"
         },
         "mode": "lines+markers",
         "name": "Our SAE",
         "showlegend": false,
         "type": "scatter",
         "x": [
          17.1726953125,
          27.5861767578125,
          43.5634375,
          73.004189453125,
          134.1006201171875,
          272.9419873046875
         ],
         "xaxis": "x",
         "y": [
          0.9876848364086929,
          0.9914052730555827,
          0.9937822610150026,
          0.9956313379972829,
          0.9959090541546997,
          0.9970271934709294
         ],
         "yaxis": "y"
        },
        {
         "legendgroup": "gemma",
         "line": {
          "color": "#EF553B",
          "dash": "dash",
          "width": 5
         },
         "marker": {
          "size": 12,
          "symbol": "circle"
         },
         "mode": "lines+markers",
         "name": "GemmaScope SAE",
         "showlegend": false,
         "type": "scatter",
         "x": [
          21.512322492599488,
          36.373988513946536,
          64.05273630142212,
          119.38513919830322,
          241.35627159118653
         ],
         "xaxis": "x",
         "y": [
          0.949908793623156,
          0.9538142084272285,
          0.9622826887018073,
          0.9740561908134577,
          0.9755469108545931
         ],
         "yaxis": "y"
        },
        {
         "legendgroup": "ours",
         "line": {
          "color": "#636EFA",
          "dash": "solid",
          "width": 5
         },
         "marker": {
          "size": 12,
          "symbol": "circle"
         },
         "mode": "lines+markers",
         "name": "Our SAE",
         "showlegend": false,
         "type": "scatter",
         "x": [
          17.14177734375,
          31.78025390625,
          57.6209033203125,
          118.3580810546875,
          224.380615234375,
          440.3301123046875
         ],
         "xaxis": "x2",
         "y": [
          0.9874932166417436,
          0.9924082208658286,
          0.9951562248054072,
          0.9969600656572859,
          0.9981566979979731,
          0.998012793186649
         ],
         "yaxis": "y2"
        },
        {
         "legendgroup": "ours",
         "line": {
          "color": "#636EFA",
          "dash": "dash",
          "width": 5
         },
         "marker": {
          "size": 12,
          "symbol": "circle"
         },
         "mode": "lines+markers",
         "name": "Our SAE",
         "showlegend": false,
         "type": "scatter",
         "x": [
          16.8319873046875,
          27.5696240234375,
          56.870859375,
          98.8058642578125,
          215.4338427734375,
          398.029189453125
         ],
         "xaxis": "x2",
         "y": [
          0.9897756220748923,
          0.9943527760822588,
          0.9959061640266893,
          0.9977248366837648,
          0.998050744809687,
          0.9976627810982728
         ],
         "yaxis": "y2"
        },
        {
         "legendgroup": "gemma",
         "line": {
          "color": "#EF553B",
          "dash": "solid",
          "width": 5
         },
         "marker": {
          "size": 12,
          "symbol": "circle"
         },
         "mode": "lines+markers",
         "name": "GemmaScope SAE",
         "showlegend": false,
         "type": "scatter",
         "x": [
          11.156475143432617,
          19.662725944519043,
          36.351931190490724,
          58.529964199066164,
          68.60614864349365,
          145.12886955261231,
          349.6590867614746,
          470.62955078125
         ],
         "xaxis": "x2",
         "y": [
          0.8347894527827384,
          0.8007126787204364,
          0.8231371840188402,
          0.884074621024878,
          0.893412141531579,
          0.9267379737722427,
          0.9510255960430447,
          0.9463084398196252
         ],
         "yaxis": "y2"
        },
        {
         "legendgroup": "gemma",
         "line": {
          "color": "#EF553B",
          "dash": "dash",
          "width": 5
         },
         "marker": {
          "size": 12,
          "symbol": "circle"
         },
         "mode": "lines+markers",
         "name": "GemmaScope SAE",
         "showlegend": false,
         "type": "scatter",
         "x": [
          10.93445186138153,
          56.81004552841186,
          373.9029344177246
         ],
         "xaxis": "x2",
         "y": [
          0.8390298324076079,
          0.8814754824505373,
          0.939004283373391
         ],
         "yaxis": "y2"
        }
       ],
       "layout": {
        "annotations": [
         {
          "font": {
           "size": 24
          },
          "showarrow": false,
          "text": "Gemma-2-2B",
          "x": 0.2375,
          "xanchor": "center",
          "xref": "paper",
          "y": 1,
          "yanchor": "bottom",
          "yref": "paper"
         },
         {
          "font": {
           "size": 24
          },
          "showarrow": false,
          "text": "Gemma-2-9B",
          "x": 0.7625,
          "xanchor": "center",
          "xref": "paper",
          "y": 1,
          "yanchor": "bottom",
          "yref": "paper"
         },
         {
          "font": {
           "size": 20
          },
          "showarrow": false,
          "text": "16k",
          "x": 0.98,
          "xanchor": "right",
          "xref": "x domain",
          "y": 0.15,
          "yanchor": "bottom",
          "yref": "y domain"
         },
         {
          "font": {
           "size": 20
          },
          "showarrow": false,
          "text": "65k",
          "x": 0.98,
          "xanchor": "right",
          "xref": "x domain",
          "y": 0.07,
          "yanchor": "bottom",
          "yref": "y domain"
         },
         {
          "font": {
           "size": 20
          },
          "showarrow": false,
          "text": "16k",
          "x": 0.98,
          "xanchor": "right",
          "xref": "x2 domain",
          "y": 0.15,
          "yanchor": "bottom",
          "yref": "y2 domain"
         },
         {
          "font": {
           "size": 20
          },
          "showarrow": false,
          "text": "32k",
          "x": 0.98,
          "xanchor": "right",
          "xref": "x2 domain",
          "y": 0.07,
          "yanchor": "bottom",
          "yref": "y2 domain"
         }
        ],
        "font": {
         "family": "Arial",
         "size": 20
        },
        "height": 500,
        "legend": {
         "itemsizing": "constant",
         "orientation": "h",
         "x": 0.5,
         "xanchor": "center",
         "y": -0.2,
         "yanchor": "top"
        },
        "margin": {
         "b": 80,
         "l": 80,
         "r": 30,
         "t": 50
        },
        "paper_bgcolor": "white",
        "plot_bgcolor": "white",
        "shapes": [
         {
          "line": {
           "color": "black",
           "width": 5
          },
          "type": "line",
          "x0": 0.75,
          "x1": 0.95,
          "xref": "x domain",
          "y0": 0.15,
          "y1": 0.15,
          "yref": "y domain"
         },
         {
          "line": {
           "color": "black",
           "dash": "dash",
           "width": 5
          },
          "type": "line",
          "x0": 0.75,
          "x1": 0.95,
          "xref": "x domain",
          "y0": 0.07,
          "y1": 0.07,
          "yref": "y domain"
         },
         {
          "line": {
           "color": "black",
           "width": 5
          },
          "type": "line",
          "x0": 0.75,
          "x1": 0.95,
          "xref": "x2 domain",
          "y0": 0.15,
          "y1": 0.15,
          "yref": "y2 domain"
         },
         {
          "line": {
           "color": "black",
           "dash": "dash",
           "width": 5
          },
          "type": "line",
          "x0": 0.75,
          "x1": 0.95,
          "xref": "x2 domain",
          "y0": 0.07,
          "y1": 0.07,
          "yref": "y2 domain"
         }
        ],
        "template": {
         "data": {
          "bar": [
           {
            "error_x": {
             "color": "#2a3f5f"
            },
            "error_y": {
             "color": "#2a3f5f"
            },
            "marker": {
             "line": {
              "color": "#E5ECF6",
              "width": 0.5
             },
             "pattern": {
              "fillmode": "overlay",
              "size": 10,
              "solidity": 0.2
             }
            },
            "type": "bar"
           }
          ],
          "barpolar": [
           {
            "marker": {
             "line": {
              "color": "#E5ECF6",
              "width": 0.5
             },
             "pattern": {
              "fillmode": "overlay",
              "size": 10,
              "solidity": 0.2
             }
            },
            "type": "barpolar"
           }
          ],
          "carpet": [
           {
            "aaxis": {
             "endlinecolor": "#2a3f5f",
             "gridcolor": "white",
             "linecolor": "white",
             "minorgridcolor": "white",
             "startlinecolor": "#2a3f5f"
            },
            "baxis": {
             "endlinecolor": "#2a3f5f",
             "gridcolor": "white",
             "linecolor": "white",
             "minorgridcolor": "white",
             "startlinecolor": "#2a3f5f"
            },
            "type": "carpet"
           }
          ],
          "choropleth": [
           {
            "colorbar": {
             "outlinewidth": 0,
             "ticks": ""
            },
            "type": "choropleth"
           }
          ],
          "contour": [
           {
            "colorbar": {
             "outlinewidth": 0,
             "ticks": ""
            },
            "colorscale": [
             [
              0,
              "#0d0887"
             ],
             [
              0.1111111111111111,
              "#46039f"
             ],
             [
              0.2222222222222222,
              "#7201a8"
             ],
             [
              0.3333333333333333,
              "#9c179e"
             ],
             [
              0.4444444444444444,
              "#bd3786"
             ],
             [
              0.5555555555555556,
              "#d8576b"
             ],
             [
              0.6666666666666666,
              "#ed7953"
             ],
             [
              0.7777777777777778,
              "#fb9f3a"
             ],
             [
              0.8888888888888888,
              "#fdca26"
             ],
             [
              1,
              "#f0f921"
             ]
            ],
            "type": "contour"
           }
          ],
          "contourcarpet": [
           {
            "colorbar": {
             "outlinewidth": 0,
             "ticks": ""
            },
            "type": "contourcarpet"
           }
          ],
          "heatmap": [
           {
            "colorbar": {
             "outlinewidth": 0,
             "ticks": ""
            },
            "colorscale": [
             [
              0,
              "#0d0887"
             ],
             [
              0.1111111111111111,
              "#46039f"
             ],
             [
              0.2222222222222222,
              "#7201a8"
             ],
             [
              0.3333333333333333,
              "#9c179e"
             ],
             [
              0.4444444444444444,
              "#bd3786"
             ],
             [
              0.5555555555555556,
              "#d8576b"
             ],
             [
              0.6666666666666666,
              "#ed7953"
             ],
             [
              0.7777777777777778,
              "#fb9f3a"
             ],
             [
              0.8888888888888888,
              "#fdca26"
             ],
             [
              1,
              "#f0f921"
             ]
            ],
            "type": "heatmap"
           }
          ],
          "histogram": [
           {
            "marker": {
             "pattern": {
              "fillmode": "overlay",
              "size": 10,
              "solidity": 0.2
             }
            },
            "type": "histogram"
           }
          ],
          "histogram2d": [
           {
            "colorbar": {
             "outlinewidth": 0,
             "ticks": ""
            },
            "colorscale": [
             [
              0,
              "#0d0887"
             ],
             [
              0.1111111111111111,
              "#46039f"
             ],
             [
              0.2222222222222222,
              "#7201a8"
             ],
             [
              0.3333333333333333,
              "#9c179e"
             ],
             [
              0.4444444444444444,
              "#bd3786"
             ],
             [
              0.5555555555555556,
              "#d8576b"
             ],
             [
              0.6666666666666666,
              "#ed7953"
             ],
             [
              0.7777777777777778,
              "#fb9f3a"
             ],
             [
              0.8888888888888888,
              "#fdca26"
             ],
             [
              1,
              "#f0f921"
             ]
            ],
            "type": "histogram2d"
           }
          ],
          "histogram2dcontour": [
           {
            "colorbar": {
             "outlinewidth": 0,
             "ticks": ""
            },
            "colorscale": [
             [
              0,
              "#0d0887"
             ],
             [
              0.1111111111111111,
              "#46039f"
             ],
             [
              0.2222222222222222,
              "#7201a8"
             ],
             [
              0.3333333333333333,
              "#9c179e"
             ],
             [
              0.4444444444444444,
              "#bd3786"
             ],
             [
              0.5555555555555556,
              "#d8576b"
             ],
             [
              0.6666666666666666,
              "#ed7953"
             ],
             [
              0.7777777777777778,
              "#fb9f3a"
             ],
             [
              0.8888888888888888,
              "#fdca26"
             ],
             [
              1,
              "#f0f921"
             ]
            ],
            "type": "histogram2dcontour"
           }
          ],
          "mesh3d": [
           {
            "colorbar": {
             "outlinewidth": 0,
             "ticks": ""
            },
            "type": "mesh3d"
           }
          ],
          "parcoords": [
           {
            "line": {
             "colorbar": {
              "outlinewidth": 0,
              "ticks": ""
             }
            },
            "type": "parcoords"
           }
          ],
          "pie": [
           {
            "automargin": true,
            "type": "pie"
           }
          ],
          "scatter": [
           {
            "fillpattern": {
             "fillmode": "overlay",
             "size": 10,
             "solidity": 0.2
            },
            "type": "scatter"
           }
          ],
          "scatter3d": [
           {
            "line": {
             "colorbar": {
              "outlinewidth": 0,
              "ticks": ""
             }
            },
            "marker": {
             "colorbar": {
              "outlinewidth": 0,
              "ticks": ""
             }
            },
            "type": "scatter3d"
           }
          ],
          "scattercarpet": [
           {
            "marker": {
             "colorbar": {
              "outlinewidth": 0,
              "ticks": ""
             }
            },
            "type": "scattercarpet"
           }
          ],
          "scattergeo": [
           {
            "marker": {
             "colorbar": {
              "outlinewidth": 0,
              "ticks": ""
             }
            },
            "type": "scattergeo"
           }
          ],
          "scattergl": [
           {
            "marker": {
             "colorbar": {
              "outlinewidth": 0,
              "ticks": ""
             }
            },
            "type": "scattergl"
           }
          ],
          "scattermap": [
           {
            "marker": {
             "colorbar": {
              "outlinewidth": 0,
              "ticks": ""
             }
            },
            "type": "scattermap"
           }
          ],
          "scattermapbox": [
           {
            "marker": {
             "colorbar": {
              "outlinewidth": 0,
              "ticks": ""
             }
            },
            "type": "scattermapbox"
           }
          ],
          "scatterpolar": [
           {
            "marker": {
             "colorbar": {
              "outlinewidth": 0,
              "ticks": ""
             }
            },
            "type": "scatterpolar"
           }
          ],
          "scatterpolargl": [
           {
            "marker": {
             "colorbar": {
              "outlinewidth": 0,
              "ticks": ""
             }
            },
            "type": "scatterpolargl"
           }
          ],
          "scatterternary": [
           {
            "marker": {
             "colorbar": {
              "outlinewidth": 0,
              "ticks": ""
             }
            },
            "type": "scatterternary"
           }
          ],
          "surface": [
           {
            "colorbar": {
             "outlinewidth": 0,
             "ticks": ""
            },
            "colorscale": [
             [
              0,
              "#0d0887"
             ],
             [
              0.1111111111111111,
              "#46039f"
             ],
             [
              0.2222222222222222,
              "#7201a8"
             ],
             [
              0.3333333333333333,
              "#9c179e"
             ],
             [
              0.4444444444444444,
              "#bd3786"
             ],
             [
              0.5555555555555556,
              "#d8576b"
             ],
             [
              0.6666666666666666,
              "#ed7953"
             ],
             [
              0.7777777777777778,
              "#fb9f3a"
             ],
             [
              0.8888888888888888,
              "#fdca26"
             ],
             [
              1,
              "#f0f921"
             ]
            ],
            "type": "surface"
           }
          ],
          "table": [
           {
            "cells": {
             "fill": {
              "color": "#EBF0F8"
             },
             "line": {
              "color": "white"
             }
            },
            "header": {
             "fill": {
              "color": "#C8D4E3"
             },
             "line": {
              "color": "white"
             }
            },
            "type": "table"
           }
          ]
         },
         "layout": {
          "annotationdefaults": {
           "arrowcolor": "#2a3f5f",
           "arrowhead": 0,
           "arrowwidth": 1
          },
          "autotypenumbers": "strict",
          "coloraxis": {
           "colorbar": {
            "outlinewidth": 0,
            "ticks": ""
           }
          },
          "colorscale": {
           "diverging": [
            [
             0,
             "#8e0152"
            ],
            [
             0.1,
             "#c51b7d"
            ],
            [
             0.2,
             "#de77ae"
            ],
            [
             0.3,
             "#f1b6da"
            ],
            [
             0.4,
             "#fde0ef"
            ],
            [
             0.5,
             "#f7f7f7"
            ],
            [
             0.6,
             "#e6f5d0"
            ],
            [
             0.7,
             "#b8e186"
            ],
            [
             0.8,
             "#7fbc41"
            ],
            [
             0.9,
             "#4d9221"
            ],
            [
             1,
             "#276419"
            ]
           ],
           "sequential": [
            [
             0,
             "#0d0887"
            ],
            [
             0.1111111111111111,
             "#46039f"
            ],
            [
             0.2222222222222222,
             "#7201a8"
            ],
            [
             0.3333333333333333,
             "#9c179e"
            ],
            [
             0.4444444444444444,
             "#bd3786"
            ],
            [
             0.5555555555555556,
             "#d8576b"
            ],
            [
             0.6666666666666666,
             "#ed7953"
            ],
            [
             0.7777777777777778,
             "#fb9f3a"
            ],
            [
             0.8888888888888888,
             "#fdca26"
            ],
            [
             1,
             "#f0f921"
            ]
           ],
           "sequentialminus": [
            [
             0,
             "#0d0887"
            ],
            [
             0.1111111111111111,
             "#46039f"
            ],
            [
             0.2222222222222222,
             "#7201a8"
            ],
            [
             0.3333333333333333,
             "#9c179e"
            ],
            [
             0.4444444444444444,
             "#bd3786"
            ],
            [
             0.5555555555555556,
             "#d8576b"
            ],
            [
             0.6666666666666666,
             "#ed7953"
            ],
            [
             0.7777777777777778,
             "#fb9f3a"
            ],
            [
             0.8888888888888888,
             "#fdca26"
            ],
            [
             1,
             "#f0f921"
            ]
           ]
          },
          "colorway": [
           "#636efa",
           "#EF553B",
           "#00cc96",
           "#ab63fa",
           "#FFA15A",
           "#19d3f3",
           "#FF6692",
           "#B6E880",
           "#FF97FF",
           "#FECB52"
          ],
          "font": {
           "color": "#2a3f5f"
          },
          "geo": {
           "bgcolor": "white",
           "lakecolor": "white",
           "landcolor": "#E5ECF6",
           "showlakes": true,
           "showland": true,
           "subunitcolor": "white"
          },
          "hoverlabel": {
           "align": "left"
          },
          "hovermode": "closest",
          "mapbox": {
           "style": "light"
          },
          "paper_bgcolor": "white",
          "plot_bgcolor": "#E5ECF6",
          "polar": {
           "angularaxis": {
            "gridcolor": "white",
            "linecolor": "white",
            "ticks": ""
           },
           "bgcolor": "#E5ECF6",
           "radialaxis": {
            "gridcolor": "white",
            "linecolor": "white",
            "ticks": ""
           }
          },
          "scene": {
           "xaxis": {
            "backgroundcolor": "#E5ECF6",
            "gridcolor": "white",
            "gridwidth": 2,
            "linecolor": "white",
            "showbackground": true,
            "ticks": "",
            "zerolinecolor": "white"
           },
           "yaxis": {
            "backgroundcolor": "#E5ECF6",
            "gridcolor": "white",
            "gridwidth": 2,
            "linecolor": "white",
            "showbackground": true,
            "ticks": "",
            "zerolinecolor": "white"
           },
           "zaxis": {
            "backgroundcolor": "#E5ECF6",
            "gridcolor": "white",
            "gridwidth": 2,
            "linecolor": "white",
            "showbackground": true,
            "ticks": "",
            "zerolinecolor": "white"
           }
          },
          "shapedefaults": {
           "line": {
            "color": "#2a3f5f"
           }
          },
          "ternary": {
           "aaxis": {
            "gridcolor": "white",
            "linecolor": "white",
            "ticks": ""
           },
           "baxis": {
            "gridcolor": "white",
            "linecolor": "white",
            "ticks": ""
           },
           "bgcolor": "#E5ECF6",
           "caxis": {
            "gridcolor": "white",
            "linecolor": "white",
            "ticks": ""
           }
          },
          "title": {
           "x": 0.05
          },
          "xaxis": {
           "automargin": true,
           "gridcolor": "white",
           "linecolor": "white",
           "ticks": "",
           "title": {
            "standoff": 15
           },
           "zerolinecolor": "white",
           "zerolinewidth": 2
          },
          "yaxis": {
           "automargin": true,
           "gridcolor": "white",
           "linecolor": "white",
           "ticks": "",
           "title": {
            "standoff": 15
           },
           "zerolinecolor": "white",
           "zerolinewidth": 2
          }
         }
        },
        "width": 1200,
        "xaxis": {
         "anchor": "y",
         "domain": [
          0,
          0.475
         ],
         "gridcolor": "lightgray",
         "gridwidth": 1,
         "showgrid": true,
         "title": {
          "text": "L0"
         },
         "zeroline": true,
         "zerolinecolor": "lightgray",
         "zerolinewidth": 1
        },
        "xaxis2": {
         "anchor": "y2",
         "domain": [
          0.525,
          1
         ],
         "gridcolor": "lightgray",
         "gridwidth": 1,
         "showgrid": true,
         "title": {
          "text": "L0"
         },
         "zeroline": true,
         "zerolinecolor": "lightgray",
         "zerolinewidth": 1
        },
        "yaxis": {
         "anchor": "x",
         "domain": [
          0,
          1
         ],
         "gridcolor": "lightgray",
         "gridwidth": 1,
         "range": [
          0.7908404777565595,
          1.00802889896185
         ],
         "showgrid": true,
         "title": {
          "text": "Loss Recovered (%)"
         },
         "zeroline": true,
         "zerolinecolor": "lightgray",
         "zerolinewidth": 1
        },
        "yaxis2": {
         "anchor": "x2",
         "domain": [
          0,
          1
         ],
         "gridcolor": "lightgray",
         "gridwidth": 1,
         "range": [
          0.7908404777565595,
          1.00802889896185
         ],
         "showgrid": true,
         "zeroline": true,
         "zerolinecolor": "lightgray",
         "zerolinewidth": 1
        }
       }
      }
     },
     "metadata": {},
     "output_type": "display_data"
    }
   ],
   "source": [
    "import plotly.graph_objects as go\n",
    "from plotly.subplots import make_subplots\n",
    "\n",
    "# Compute loss recovered for each dataset\n",
    "# For our 16k data\n",
    "our_16k_l0s, our_16k_loss_recovered = map(list, zip(*sorted(\n",
    "    (d['l0'], 1 - (d['loss_reconstructed'] - d['loss_original']) / (d['loss_zero'] - d['loss_original']))\n",
    "    for d in our_16k_data.values()\n",
    ")))\n",
    "\n",
    "# For our 65k data\n",
    "our_65k_l0s, our_65k_loss_recovered = map(list, zip(*sorted(\n",
    "    (d['l0'], 1 - (d['loss_reconstructed'] - d['loss_original']) / (d['loss_zero'] - d['loss_original']))\n",
    "    for d in our_65k_data.values()\n",
    ")))\n",
    "\n",
    "# For our 16k 9b data\n",
    "our_16k_l0s_9b, our_loss_recovered_16k_9b = map(list, zip(*sorted(\n",
    "    (d['l0'], 1 - (d['loss_reconstructed'] - d['loss_original']) / (d['loss_zero'] - d['loss_original']))\n",
    "    for d in our_16k_9b_data.values()\n",
    ")))\n",
    "\n",
    "# For our 32k 9b data\n",
    "our_32k_l0s_9b, our_32k_loss_recovered_9b = map(list, zip(*sorted(\n",
    "    (d['l0'], 1 - (d['loss_reconstructed'] - d['loss_original']) / (d['loss_zero'] - d['loss_original']))\n",
    "    for d in our_32k_9b_data.values()\n",
    ")))\n",
    "\n",
    "# For gemma 16k data\n",
    "gemma_16k_l0s, gemma_loss_recovered = map(list, zip(*sorted(\n",
    "    (d['l0'], 1 - (d['loss_reconstructed'] - d['loss_original']) / (d['loss_zero'] - d['loss_original']))\n",
    "    for d in gemma_16k_data.values()\n",
    ")))\n",
    "\n",
    "# For gemma 65k data\n",
    "gemma_65k_l0s, gemma_65k_loss_recovered = map(list, zip(*sorted(\n",
    "    (d['l0'], 1 - (d['loss_reconstructed'] - d['loss_original']) / (d['loss_zero'] - d['loss_original']))\n",
    "    for d in gemma_65k_data.values()\n",
    ")))\n",
    "\n",
    "# For gemma 16k 9b data\n",
    "gemma_16k_l0s_9b, gemma_loss_recovered_16k_9b = map(list, zip(*sorted(\n",
    "    (d['l0'], 1 - (d['loss_reconstructed'] - d['loss_original']) / (d['loss_zero'] - d['loss_original']))\n",
    "    for d in gemma_16k_9b_data.values()\n",
    ")))\n",
    "\n",
    "# For gemma 32k 9b data\n",
    "gemma_32k_l0s_9b, gemma_32k_loss_recovered_9b = map(list, zip(*sorted(\n",
    "    (d['l0'], 1 - (d['loss_reconstructed'] - d['loss_original']) / (d['loss_zero'] - d['loss_original']))\n",
    "    for d in gemma_32k_9b_data.values()\n",
    ")))\n",
    "\n",
    "\n",
    "# Style parameters\n",
    "BASE_FONT_SIZE = 20\n",
    "BASE_LINE_WIDTH = 5\n",
    "BASE_MARKER_SIZE = 12\n",
    "\n",
    "# Color scheme\n",
    "# MODEL_COLORS = {\n",
    "#     'ours': '#2E5894',  # Deep blue\n",
    "#     'gemma': '#943D2E'  # Deep red\n",
    "# }\n",
    "\n",
    "MODEL_COLORS = {\n",
    "    'ours': '#636EFA', #'#2E5894',  # Deep blue\n",
    "    'gemma': '#EF553B' #'#943D2E'  # Deep red\n",
    "}\n",
    "\n",
    "# Create subplot figure\n",
    "fig = make_subplots(\n",
    "    rows=1, cols=2,\n",
    "    subplot_titles=(\"Gemma-2-2B\", \"Gemma-2-9B\"),\n",
    "    horizontal_spacing=0.05,\n",
    ")\n",
    "fig.update_annotations(font_size=BASE_FONT_SIZE * 1.2)\n",
    "\n",
    "\n",
    "# Function to add traces with consistent styling\n",
    "def add_model_trace(x, y, model_type, width, show_in_legend, row=1, col=1):\n",
    "    \"\"\"\n",
    "    Add a trace with consistent styling based on model type and width.\n",
    "    model_type: 'ours' or 'gemma'\n",
    "    width: '16k', '32k', or '65k'\n",
    "    show_in_legend: whether to show in the legend\n",
    "    \"\"\"\n",
    "    dash_style = 'solid' if width == '16k' else 'dash'\n",
    "    \n",
    "    return fig.add_trace(\n",
    "        go.Scatter(\n",
    "            x=x,\n",
    "            y=y,\n",
    "            mode='lines+markers',\n",
    "            name=f\"{'Our' if model_type == 'ours' else 'GemmaScope'} SAE\",\n",
    "            marker=dict(\n",
    "                symbol='circle',\n",
    "                size=BASE_MARKER_SIZE,\n",
    "            ),\n",
    "            line=dict(\n",
    "                color=MODEL_COLORS[model_type],\n",
    "                dash=dash_style,\n",
    "                width=BASE_LINE_WIDTH\n",
    "            ),\n",
    "            legendgroup=model_type,\n",
    "            showlegend=show_in_legend\n",
    "        ),\n",
    "        row=row, col=col\n",
    "    )\n",
    "\n",
    "\n",
    "# Add traces for first subplot (Gemma-2-2B)\n",
    "add_model_trace(our_16k_l0s, our_16k_loss_recovered, 'ours', '16k', True, 1, 1)\n",
    "add_model_trace(gemma_16k_l0s, gemma_loss_recovered, 'gemma', '16k', True, 1, 1)\n",
    "add_model_trace(our_65k_l0s, our_65k_loss_recovered, 'ours', '65k', False, 1, 1)\n",
    "add_model_trace(gemma_65k_l0s, gemma_65k_loss_recovered, 'gemma', '65k', False, 1, 1)\n",
    "\n",
    "# Add traces for second subplot (Gemma-2-9B)\n",
    "add_model_trace(our_16k_l0s_9b, our_loss_recovered_16k_9b, 'ours', '16k', False, 1, 2)\n",
    "add_model_trace(our_32k_l0s_9b, our_32k_loss_recovered_9b, 'ours', '32k', False, 1, 2)\n",
    "add_model_trace(gemma_16k_l0s_9b, gemma_loss_recovered_16k_9b, 'gemma', '16k', False, 1, 2)\n",
    "add_model_trace(gemma_32k_l0s_9b, gemma_32k_loss_recovered_9b, 'gemma', '32k', False, 1, 2)\n",
    "\n",
    "\n",
    "# Add line style legends as annotations\n",
    "# For Gemma-2-2B plot\n",
    "fig.add_annotation(\n",
    "    xref=\"x domain\", yref=\"y domain\",\n",
    "    x=0.98, y=0.15,\n",
    "    text=\"16k\",\n",
    "    showarrow=False,\n",
    "    font=dict(size=BASE_FONT_SIZE),\n",
    "    xanchor=\"right\",\n",
    "    yanchor=\"bottom\"\n",
    ")\n",
    "\n",
    "fig.add_shape(\n",
    "    type=\"line\",\n",
    "    xref=\"x domain\", yref=\"y domain\",\n",
    "    x0=0.75, x1=0.95,\n",
    "    y0=0.15, y1=0.15,\n",
    "    line=dict(color=\"black\", width=BASE_LINE_WIDTH)\n",
    ")\n",
    "\n",
    "fig.add_annotation(\n",
    "    xref=\"x domain\", yref=\"y domain\",\n",
    "    x=0.98, y=0.07,\n",
    "    text=\"65k\",\n",
    "    showarrow=False,\n",
    "    font=dict(size=BASE_FONT_SIZE),\n",
    "    xanchor=\"right\",\n",
    "    yanchor=\"bottom\"\n",
    ")\n",
    "\n",
    "fig.add_shape(\n",
    "    type=\"line\",\n",
    "    xref=\"x domain\", yref=\"y domain\",\n",
    "    x0=0.75, x1=0.95,\n",
    "    y0=0.07, y1=0.07,\n",
    "    line=dict(color=\"black\", width=BASE_LINE_WIDTH, dash=\"dash\")\n",
    ")\n",
    "\n",
    "# For Gemma-2-9B plot\n",
    "fig.add_annotation(\n",
    "    xref=\"x2 domain\", yref=\"y2 domain\",\n",
    "    x=0.98, y=0.15,\n",
    "    text=\"16k\",\n",
    "    showarrow=False,\n",
    "    font=dict(size=BASE_FONT_SIZE),\n",
    "    xanchor=\"right\",\n",
    "    yanchor=\"bottom\"\n",
    ")\n",
    "\n",
    "fig.add_shape(\n",
    "    type=\"line\",\n",
    "    xref=\"x2 domain\", yref=\"y2 domain\",\n",
    "    x0=0.75, x1=0.95,\n",
    "    y0=0.15, y1=0.15,\n",
    "    line=dict(color=\"black\", width=BASE_LINE_WIDTH)\n",
    ")\n",
    "\n",
    "fig.add_annotation(\n",
    "    xref=\"x2 domain\", yref=\"y2 domain\",\n",
    "    x=0.98, y=0.07,\n",
    "    text=\"32k\",\n",
    "    showarrow=False,\n",
    "    font=dict(size=BASE_FONT_SIZE),\n",
    "    xanchor=\"right\",\n",
    "    yanchor=\"bottom\"\n",
    ")\n",
    "\n",
    "fig.add_shape(\n",
    "    type=\"line\",\n",
    "    xref=\"x2 domain\", yref=\"y2 domain\",\n",
    "    x0=0.75, x1=0.95,\n",
    "    y0=0.07, y1=0.07,\n",
    "    line=dict(color=\"black\", width=BASE_LINE_WIDTH, dash=\"dash\")\n",
    ")\n",
    "\n",
    "\n",
    "# Update layout\n",
    "fig.update_layout(\n",
    "    width=1200,\n",
    "    height=500,\n",
    "    margin=dict(l=80, r=30, t=50, b=80),\n",
    "    plot_bgcolor='white',\n",
    "    paper_bgcolor='white',\n",
    "    font=dict(\n",
    "        family='Arial',\n",
    "        size=BASE_FONT_SIZE,\n",
    "    ),\n",
    "    legend=dict(\n",
    "        x=0.5,\n",
    "        y=-0.2,\n",
    "        xanchor='center',\n",
    "        yanchor='top',\n",
    "        orientation='h',\n",
    "        itemsizing='constant'\n",
    "    ),\n",
    "    xaxis=dict(\n",
    "        title='L0',\n",
    "        showgrid=True,\n",
    "        gridwidth=1,\n",
    "        gridcolor='lightgray',\n",
    "        zeroline=True,\n",
    "        zerolinewidth=1,\n",
    "        zerolinecolor='lightgray',\n",
    "    ),\n",
    "    yaxis=dict(\n",
    "        title='Loss Recovered (%)',\n",
    "        showgrid=True,\n",
    "        gridwidth=1,\n",
    "        gridcolor='lightgray',\n",
    "        zeroline=True,\n",
    "        zerolinewidth=1,\n",
    "        zerolinecolor='lightgray',\n",
    "    ),\n",
    "    xaxis2=dict(\n",
    "        title='L0',\n",
    "        showgrid=True,\n",
    "        gridwidth=1,\n",
    "        gridcolor='lightgray',\n",
    "        zeroline=True,\n",
    "        zerolinewidth=1,\n",
    "        zerolinecolor='lightgray',\n",
    "    ),\n",
    "    yaxis2=dict(\n",
    "        showgrid=True,\n",
    "        gridwidth=1,\n",
    "        gridcolor='lightgray',\n",
    "        zeroline=True,\n",
    "        zerolinewidth=1,\n",
    "        zerolinecolor='lightgray',\n",
    "    )\n",
    ")\n",
    "\n",
    "# Ensure y-axis ranges are the same across subplots\n",
    "y_min = min(\n",
    "    min(our_16k_loss_recovered),\n",
    "    min(gemma_loss_recovered),\n",
    "    min(our_65k_loss_recovered),\n",
    "    min(gemma_65k_loss_recovered),\n",
    "    min(our_loss_recovered_16k_9b),\n",
    "    min(our_32k_loss_recovered_9b),\n",
    "    min(gemma_loss_recovered_16k_9b),\n",
    "    min(gemma_32k_loss_recovered_9b)\n",
    ")\n",
    "\n",
    "y_max = max(\n",
    "    max(our_16k_loss_recovered),\n",
    "    max(gemma_loss_recovered),\n",
    "    max(our_65k_loss_recovered),\n",
    "    max(gemma_65k_loss_recovered),\n",
    "    max(our_loss_recovered_16k_9b),\n",
    "    max(our_32k_loss_recovered_9b),\n",
    "    max(gemma_loss_recovered_16k_9b),\n",
    "    max(gemma_32k_loss_recovered_9b)\n",
    ")\n",
    "\n",
    "padding = (y_max - y_min) * 0.05\n",
    "fig.update_yaxes(range=[y_min - padding, y_max + padding])\n",
    "\n",
    "# Save figure as PDF and show\n",
    "fig.write_image(\"results/figures/loss_recovered.pdf\")\n",
    "fig.show()"
   ]
  },
  {
   "cell_type": "markdown",
   "metadata": {},
   "source": [
    "## L2"
   ]
  },
  {
   "cell_type": "code",
   "execution_count": 11,
   "metadata": {},
   "outputs": [
    {
     "data": {
      "application/vnd.plotly.v1+json": {
       "config": {
        "plotlyServerURL": "https://plot.ly"
       },
       "data": [
        {
         "line": {
          "color": "blue",
          "dash": "solid"
         },
         "marker": {
          "symbol": "circle"
         },
         "mode": "lines+markers",
         "name": "Our Model (16k)",
         "type": "scatter",
         "x": [
          18.7971337890625,
          34.8091943359375,
          58.2791796875,
          122.336005859375,
          222.349736328125,
          360.7735693359375
         ],
         "y": [
          116.625,
          110.5325,
          105.005,
          97.485,
          94.735,
          92.98
         ]
        },
        {
         "line": {
          "color": "red",
          "dash": "solid"
         },
         "marker": {
          "symbol": "circle"
         },
         "mode": "lines+markers",
         "name": "Gemma Model (16k)",
         "type": "scatter",
         "x": [
          22.6335298538208,
          40.16366771697998,
          76.59480045318604,
          152.31977714538573,
          313.53044342041017
         ],
         "y": [
          155.855,
          146.0825,
          135.1525,
          123.5475,
          108.59
         ]
        },
        {
         "line": {
          "color": "blue",
          "dash": "dash"
         },
         "marker": {
          "symbol": "circle"
         },
         "mode": "lines+markers",
         "name": "Our Model (65k)",
         "type": "scatter",
         "x": [
          17.1726953125,
          27.5861767578125,
          43.5634375,
          73.004189453125,
          134.1006201171875,
          272.9419873046875
         ],
         "y": [
          106.55,
          100.5925,
          94.725,
          89.4025,
          86.5275,
          82.73
         ]
        },
        {
         "line": {
          "color": "red",
          "dash": "dash"
         },
         "marker": {
          "symbol": "circle"
         },
         "mode": "lines+markers",
         "name": "Gemma Model (65k)",
         "type": "scatter",
         "x": [
          21.512322492599488,
          36.373988513946536,
          64.05273630142212,
          119.38513919830322,
          241.35627159118653
         ],
         "y": [
          141.6475,
          132.0725,
          122.115,
          111.37,
          98.8625
         ]
        }
       ],
       "layout": {
        "showlegend": true,
        "template": {
         "data": {
          "bar": [
           {
            "error_x": {
             "color": "#2a3f5f"
            },
            "error_y": {
             "color": "#2a3f5f"
            },
            "marker": {
             "line": {
              "color": "#E5ECF6",
              "width": 0.5
             },
             "pattern": {
              "fillmode": "overlay",
              "size": 10,
              "solidity": 0.2
             }
            },
            "type": "bar"
           }
          ],
          "barpolar": [
           {
            "marker": {
             "line": {
              "color": "#E5ECF6",
              "width": 0.5
             },
             "pattern": {
              "fillmode": "overlay",
              "size": 10,
              "solidity": 0.2
             }
            },
            "type": "barpolar"
           }
          ],
          "carpet": [
           {
            "aaxis": {
             "endlinecolor": "#2a3f5f",
             "gridcolor": "white",
             "linecolor": "white",
             "minorgridcolor": "white",
             "startlinecolor": "#2a3f5f"
            },
            "baxis": {
             "endlinecolor": "#2a3f5f",
             "gridcolor": "white",
             "linecolor": "white",
             "minorgridcolor": "white",
             "startlinecolor": "#2a3f5f"
            },
            "type": "carpet"
           }
          ],
          "choropleth": [
           {
            "colorbar": {
             "outlinewidth": 0,
             "ticks": ""
            },
            "type": "choropleth"
           }
          ],
          "contour": [
           {
            "colorbar": {
             "outlinewidth": 0,
             "ticks": ""
            },
            "colorscale": [
             [
              0,
              "#0d0887"
             ],
             [
              0.1111111111111111,
              "#46039f"
             ],
             [
              0.2222222222222222,
              "#7201a8"
             ],
             [
              0.3333333333333333,
              "#9c179e"
             ],
             [
              0.4444444444444444,
              "#bd3786"
             ],
             [
              0.5555555555555556,
              "#d8576b"
             ],
             [
              0.6666666666666666,
              "#ed7953"
             ],
             [
              0.7777777777777778,
              "#fb9f3a"
             ],
             [
              0.8888888888888888,
              "#fdca26"
             ],
             [
              1,
              "#f0f921"
             ]
            ],
            "type": "contour"
           }
          ],
          "contourcarpet": [
           {
            "colorbar": {
             "outlinewidth": 0,
             "ticks": ""
            },
            "type": "contourcarpet"
           }
          ],
          "heatmap": [
           {
            "colorbar": {
             "outlinewidth": 0,
             "ticks": ""
            },
            "colorscale": [
             [
              0,
              "#0d0887"
             ],
             [
              0.1111111111111111,
              "#46039f"
             ],
             [
              0.2222222222222222,
              "#7201a8"
             ],
             [
              0.3333333333333333,
              "#9c179e"
             ],
             [
              0.4444444444444444,
              "#bd3786"
             ],
             [
              0.5555555555555556,
              "#d8576b"
             ],
             [
              0.6666666666666666,
              "#ed7953"
             ],
             [
              0.7777777777777778,
              "#fb9f3a"
             ],
             [
              0.8888888888888888,
              "#fdca26"
             ],
             [
              1,
              "#f0f921"
             ]
            ],
            "type": "heatmap"
           }
          ],
          "histogram": [
           {
            "marker": {
             "pattern": {
              "fillmode": "overlay",
              "size": 10,
              "solidity": 0.2
             }
            },
            "type": "histogram"
           }
          ],
          "histogram2d": [
           {
            "colorbar": {
             "outlinewidth": 0,
             "ticks": ""
            },
            "colorscale": [
             [
              0,
              "#0d0887"
             ],
             [
              0.1111111111111111,
              "#46039f"
             ],
             [
              0.2222222222222222,
              "#7201a8"
             ],
             [
              0.3333333333333333,
              "#9c179e"
             ],
             [
              0.4444444444444444,
              "#bd3786"
             ],
             [
              0.5555555555555556,
              "#d8576b"
             ],
             [
              0.6666666666666666,
              "#ed7953"
             ],
             [
              0.7777777777777778,
              "#fb9f3a"
             ],
             [
              0.8888888888888888,
              "#fdca26"
             ],
             [
              1,
              "#f0f921"
             ]
            ],
            "type": "histogram2d"
           }
          ],
          "histogram2dcontour": [
           {
            "colorbar": {
             "outlinewidth": 0,
             "ticks": ""
            },
            "colorscale": [
             [
              0,
              "#0d0887"
             ],
             [
              0.1111111111111111,
              "#46039f"
             ],
             [
              0.2222222222222222,
              "#7201a8"
             ],
             [
              0.3333333333333333,
              "#9c179e"
             ],
             [
              0.4444444444444444,
              "#bd3786"
             ],
             [
              0.5555555555555556,
              "#d8576b"
             ],
             [
              0.6666666666666666,
              "#ed7953"
             ],
             [
              0.7777777777777778,
              "#fb9f3a"
             ],
             [
              0.8888888888888888,
              "#fdca26"
             ],
             [
              1,
              "#f0f921"
             ]
            ],
            "type": "histogram2dcontour"
           }
          ],
          "mesh3d": [
           {
            "colorbar": {
             "outlinewidth": 0,
             "ticks": ""
            },
            "type": "mesh3d"
           }
          ],
          "parcoords": [
           {
            "line": {
             "colorbar": {
              "outlinewidth": 0,
              "ticks": ""
             }
            },
            "type": "parcoords"
           }
          ],
          "pie": [
           {
            "automargin": true,
            "type": "pie"
           }
          ],
          "scatter": [
           {
            "fillpattern": {
             "fillmode": "overlay",
             "size": 10,
             "solidity": 0.2
            },
            "type": "scatter"
           }
          ],
          "scatter3d": [
           {
            "line": {
             "colorbar": {
              "outlinewidth": 0,
              "ticks": ""
             }
            },
            "marker": {
             "colorbar": {
              "outlinewidth": 0,
              "ticks": ""
             }
            },
            "type": "scatter3d"
           }
          ],
          "scattercarpet": [
           {
            "marker": {
             "colorbar": {
              "outlinewidth": 0,
              "ticks": ""
             }
            },
            "type": "scattercarpet"
           }
          ],
          "scattergeo": [
           {
            "marker": {
             "colorbar": {
              "outlinewidth": 0,
              "ticks": ""
             }
            },
            "type": "scattergeo"
           }
          ],
          "scattergl": [
           {
            "marker": {
             "colorbar": {
              "outlinewidth": 0,
              "ticks": ""
             }
            },
            "type": "scattergl"
           }
          ],
          "scattermap": [
           {
            "marker": {
             "colorbar": {
              "outlinewidth": 0,
              "ticks": ""
             }
            },
            "type": "scattermap"
           }
          ],
          "scattermapbox": [
           {
            "marker": {
             "colorbar": {
              "outlinewidth": 0,
              "ticks": ""
             }
            },
            "type": "scattermapbox"
           }
          ],
          "scatterpolar": [
           {
            "marker": {
             "colorbar": {
              "outlinewidth": 0,
              "ticks": ""
             }
            },
            "type": "scatterpolar"
           }
          ],
          "scatterpolargl": [
           {
            "marker": {
             "colorbar": {
              "outlinewidth": 0,
              "ticks": ""
             }
            },
            "type": "scatterpolargl"
           }
          ],
          "scatterternary": [
           {
            "marker": {
             "colorbar": {
              "outlinewidth": 0,
              "ticks": ""
             }
            },
            "type": "scatterternary"
           }
          ],
          "surface": [
           {
            "colorbar": {
             "outlinewidth": 0,
             "ticks": ""
            },
            "colorscale": [
             [
              0,
              "#0d0887"
             ],
             [
              0.1111111111111111,
              "#46039f"
             ],
             [
              0.2222222222222222,
              "#7201a8"
             ],
             [
              0.3333333333333333,
              "#9c179e"
             ],
             [
              0.4444444444444444,
              "#bd3786"
             ],
             [
              0.5555555555555556,
              "#d8576b"
             ],
             [
              0.6666666666666666,
              "#ed7953"
             ],
             [
              0.7777777777777778,
              "#fb9f3a"
             ],
             [
              0.8888888888888888,
              "#fdca26"
             ],
             [
              1,
              "#f0f921"
             ]
            ],
            "type": "surface"
           }
          ],
          "table": [
           {
            "cells": {
             "fill": {
              "color": "#EBF0F8"
             },
             "line": {
              "color": "white"
             }
            },
            "header": {
             "fill": {
              "color": "#C8D4E3"
             },
             "line": {
              "color": "white"
             }
            },
            "type": "table"
           }
          ]
         },
         "layout": {
          "annotationdefaults": {
           "arrowcolor": "#2a3f5f",
           "arrowhead": 0,
           "arrowwidth": 1
          },
          "autotypenumbers": "strict",
          "coloraxis": {
           "colorbar": {
            "outlinewidth": 0,
            "ticks": ""
           }
          },
          "colorscale": {
           "diverging": [
            [
             0,
             "#8e0152"
            ],
            [
             0.1,
             "#c51b7d"
            ],
            [
             0.2,
             "#de77ae"
            ],
            [
             0.3,
             "#f1b6da"
            ],
            [
             0.4,
             "#fde0ef"
            ],
            [
             0.5,
             "#f7f7f7"
            ],
            [
             0.6,
             "#e6f5d0"
            ],
            [
             0.7,
             "#b8e186"
            ],
            [
             0.8,
             "#7fbc41"
            ],
            [
             0.9,
             "#4d9221"
            ],
            [
             1,
             "#276419"
            ]
           ],
           "sequential": [
            [
             0,
             "#0d0887"
            ],
            [
             0.1111111111111111,
             "#46039f"
            ],
            [
             0.2222222222222222,
             "#7201a8"
            ],
            [
             0.3333333333333333,
             "#9c179e"
            ],
            [
             0.4444444444444444,
             "#bd3786"
            ],
            [
             0.5555555555555556,
             "#d8576b"
            ],
            [
             0.6666666666666666,
             "#ed7953"
            ],
            [
             0.7777777777777778,
             "#fb9f3a"
            ],
            [
             0.8888888888888888,
             "#fdca26"
            ],
            [
             1,
             "#f0f921"
            ]
           ],
           "sequentialminus": [
            [
             0,
             "#0d0887"
            ],
            [
             0.1111111111111111,
             "#46039f"
            ],
            [
             0.2222222222222222,
             "#7201a8"
            ],
            [
             0.3333333333333333,
             "#9c179e"
            ],
            [
             0.4444444444444444,
             "#bd3786"
            ],
            [
             0.5555555555555556,
             "#d8576b"
            ],
            [
             0.6666666666666666,
             "#ed7953"
            ],
            [
             0.7777777777777778,
             "#fb9f3a"
            ],
            [
             0.8888888888888888,
             "#fdca26"
            ],
            [
             1,
             "#f0f921"
            ]
           ]
          },
          "colorway": [
           "#636efa",
           "#EF553B",
           "#00cc96",
           "#ab63fa",
           "#FFA15A",
           "#19d3f3",
           "#FF6692",
           "#B6E880",
           "#FF97FF",
           "#FECB52"
          ],
          "font": {
           "color": "#2a3f5f"
          },
          "geo": {
           "bgcolor": "white",
           "lakecolor": "white",
           "landcolor": "#E5ECF6",
           "showlakes": true,
           "showland": true,
           "subunitcolor": "white"
          },
          "hoverlabel": {
           "align": "left"
          },
          "hovermode": "closest",
          "mapbox": {
           "style": "light"
          },
          "paper_bgcolor": "white",
          "plot_bgcolor": "#E5ECF6",
          "polar": {
           "angularaxis": {
            "gridcolor": "white",
            "linecolor": "white",
            "ticks": ""
           },
           "bgcolor": "#E5ECF6",
           "radialaxis": {
            "gridcolor": "white",
            "linecolor": "white",
            "ticks": ""
           }
          },
          "scene": {
           "xaxis": {
            "backgroundcolor": "#E5ECF6",
            "gridcolor": "white",
            "gridwidth": 2,
            "linecolor": "white",
            "showbackground": true,
            "ticks": "",
            "zerolinecolor": "white"
           },
           "yaxis": {
            "backgroundcolor": "#E5ECF6",
            "gridcolor": "white",
            "gridwidth": 2,
            "linecolor": "white",
            "showbackground": true,
            "ticks": "",
            "zerolinecolor": "white"
           },
           "zaxis": {
            "backgroundcolor": "#E5ECF6",
            "gridcolor": "white",
            "gridwidth": 2,
            "linecolor": "white",
            "showbackground": true,
            "ticks": "",
            "zerolinecolor": "white"
           }
          },
          "shapedefaults": {
           "line": {
            "color": "#2a3f5f"
           }
          },
          "ternary": {
           "aaxis": {
            "gridcolor": "white",
            "linecolor": "white",
            "ticks": ""
           },
           "baxis": {
            "gridcolor": "white",
            "linecolor": "white",
            "ticks": ""
           },
           "bgcolor": "#E5ECF6",
           "caxis": {
            "gridcolor": "white",
            "linecolor": "white",
            "ticks": ""
           }
          },
          "title": {
           "x": 0.05
          },
          "xaxis": {
           "automargin": true,
           "gridcolor": "white",
           "linecolor": "white",
           "ticks": "",
           "title": {
            "standoff": 15
           },
           "zerolinecolor": "white",
           "zerolinewidth": 2
          },
          "yaxis": {
           "automargin": true,
           "gridcolor": "white",
           "linecolor": "white",
           "ticks": "",
           "title": {
            "standoff": 15
           },
           "zerolinecolor": "white",
           "zerolinewidth": 2
          }
         }
        },
        "title": {
         "text": "L0 vs L2 Loss"
        },
        "width": 600,
        "xaxis": {
         "title": {
          "text": "L0"
         }
        },
        "yaxis": {
         "title": {
          "text": "L2 Loss"
         }
        }
       }
      }
     },
     "metadata": {},
     "output_type": "display_data"
    },
    {
     "data": {
      "application/vnd.plotly.v1+json": {
       "config": {
        "plotlyServerURL": "https://plot.ly"
       },
       "data": [
        {
         "line": {
          "color": "blue",
          "dash": "solid"
         },
         "marker": {
          "symbol": "circle"
         },
         "mode": "lines+markers",
         "name": "Our Model (16k, 9B)",
         "type": "scatter",
         "x": [
          17.14177734375,
          31.78025390625,
          57.6209033203125,
          118.3580810546875,
          224.380615234375,
          440.3301123046875
         ],
         "y": [
          85.465,
          81.2425,
          77.465,
          72.6225,
          69.4375,
          66.7025
         ]
        },
        {
         "line": {
          "color": "blue",
          "dash": "dash"
         },
         "marker": {
          "symbol": "circle"
         },
         "mode": "lines+markers",
         "name": "Our Model (32k, 9B)",
         "type": "scatter",
         "x": [
          16.8319873046875,
          27.5696240234375,
          56.870859375,
          98.8058642578125,
          215.4338427734375,
          398.029189453125
         ],
         "y": [
          81.85,
          77.925,
          73.0525,
          70.2175,
          65.18625,
          64.98625
         ]
        },
        {
         "line": {
          "color": "red",
          "dash": "solid"
         },
         "marker": {
          "symbol": "circle"
         },
         "mode": "lines+markers",
         "name": "Gemma Model (16k, 9B)",
         "type": "scatter",
         "x": [
          11.156475143432617,
          19.662725944519043,
          36.351931190490724,
          58.529964199066164,
          68.60614864349365,
          145.12886955261231,
          349.6590867614746,
          470.62955078125
         ],
         "y": [
          115.36,
          109.3975,
          102.845,
          98.235,
          96.1825,
          88.0825,
          76.9325,
          72.18
         ]
        },
        {
         "line": {
          "color": "red",
          "dash": "dash"
         },
         "marker": {
          "symbol": "circle"
         },
         "mode": "lines+markers",
         "name": "Gemma Model (32k, 9B)",
         "type": "scatter",
         "x": [
          10.93445186138153,
          56.81004552841186,
          373.9029344177246
         ],
         "y": [
          112.4625,
          94.0975,
          71.4225
         ]
        }
       ],
       "layout": {
        "showlegend": true,
        "template": {
         "data": {
          "bar": [
           {
            "error_x": {
             "color": "#2a3f5f"
            },
            "error_y": {
             "color": "#2a3f5f"
            },
            "marker": {
             "line": {
              "color": "#E5ECF6",
              "width": 0.5
             },
             "pattern": {
              "fillmode": "overlay",
              "size": 10,
              "solidity": 0.2
             }
            },
            "type": "bar"
           }
          ],
          "barpolar": [
           {
            "marker": {
             "line": {
              "color": "#E5ECF6",
              "width": 0.5
             },
             "pattern": {
              "fillmode": "overlay",
              "size": 10,
              "solidity": 0.2
             }
            },
            "type": "barpolar"
           }
          ],
          "carpet": [
           {
            "aaxis": {
             "endlinecolor": "#2a3f5f",
             "gridcolor": "white",
             "linecolor": "white",
             "minorgridcolor": "white",
             "startlinecolor": "#2a3f5f"
            },
            "baxis": {
             "endlinecolor": "#2a3f5f",
             "gridcolor": "white",
             "linecolor": "white",
             "minorgridcolor": "white",
             "startlinecolor": "#2a3f5f"
            },
            "type": "carpet"
           }
          ],
          "choropleth": [
           {
            "colorbar": {
             "outlinewidth": 0,
             "ticks": ""
            },
            "type": "choropleth"
           }
          ],
          "contour": [
           {
            "colorbar": {
             "outlinewidth": 0,
             "ticks": ""
            },
            "colorscale": [
             [
              0,
              "#0d0887"
             ],
             [
              0.1111111111111111,
              "#46039f"
             ],
             [
              0.2222222222222222,
              "#7201a8"
             ],
             [
              0.3333333333333333,
              "#9c179e"
             ],
             [
              0.4444444444444444,
              "#bd3786"
             ],
             [
              0.5555555555555556,
              "#d8576b"
             ],
             [
              0.6666666666666666,
              "#ed7953"
             ],
             [
              0.7777777777777778,
              "#fb9f3a"
             ],
             [
              0.8888888888888888,
              "#fdca26"
             ],
             [
              1,
              "#f0f921"
             ]
            ],
            "type": "contour"
           }
          ],
          "contourcarpet": [
           {
            "colorbar": {
             "outlinewidth": 0,
             "ticks": ""
            },
            "type": "contourcarpet"
           }
          ],
          "heatmap": [
           {
            "colorbar": {
             "outlinewidth": 0,
             "ticks": ""
            },
            "colorscale": [
             [
              0,
              "#0d0887"
             ],
             [
              0.1111111111111111,
              "#46039f"
             ],
             [
              0.2222222222222222,
              "#7201a8"
             ],
             [
              0.3333333333333333,
              "#9c179e"
             ],
             [
              0.4444444444444444,
              "#bd3786"
             ],
             [
              0.5555555555555556,
              "#d8576b"
             ],
             [
              0.6666666666666666,
              "#ed7953"
             ],
             [
              0.7777777777777778,
              "#fb9f3a"
             ],
             [
              0.8888888888888888,
              "#fdca26"
             ],
             [
              1,
              "#f0f921"
             ]
            ],
            "type": "heatmap"
           }
          ],
          "histogram": [
           {
            "marker": {
             "pattern": {
              "fillmode": "overlay",
              "size": 10,
              "solidity": 0.2
             }
            },
            "type": "histogram"
           }
          ],
          "histogram2d": [
           {
            "colorbar": {
             "outlinewidth": 0,
             "ticks": ""
            },
            "colorscale": [
             [
              0,
              "#0d0887"
             ],
             [
              0.1111111111111111,
              "#46039f"
             ],
             [
              0.2222222222222222,
              "#7201a8"
             ],
             [
              0.3333333333333333,
              "#9c179e"
             ],
             [
              0.4444444444444444,
              "#bd3786"
             ],
             [
              0.5555555555555556,
              "#d8576b"
             ],
             [
              0.6666666666666666,
              "#ed7953"
             ],
             [
              0.7777777777777778,
              "#fb9f3a"
             ],
             [
              0.8888888888888888,
              "#fdca26"
             ],
             [
              1,
              "#f0f921"
             ]
            ],
            "type": "histogram2d"
           }
          ],
          "histogram2dcontour": [
           {
            "colorbar": {
             "outlinewidth": 0,
             "ticks": ""
            },
            "colorscale": [
             [
              0,
              "#0d0887"
             ],
             [
              0.1111111111111111,
              "#46039f"
             ],
             [
              0.2222222222222222,
              "#7201a8"
             ],
             [
              0.3333333333333333,
              "#9c179e"
             ],
             [
              0.4444444444444444,
              "#bd3786"
             ],
             [
              0.5555555555555556,
              "#d8576b"
             ],
             [
              0.6666666666666666,
              "#ed7953"
             ],
             [
              0.7777777777777778,
              "#fb9f3a"
             ],
             [
              0.8888888888888888,
              "#fdca26"
             ],
             [
              1,
              "#f0f921"
             ]
            ],
            "type": "histogram2dcontour"
           }
          ],
          "mesh3d": [
           {
            "colorbar": {
             "outlinewidth": 0,
             "ticks": ""
            },
            "type": "mesh3d"
           }
          ],
          "parcoords": [
           {
            "line": {
             "colorbar": {
              "outlinewidth": 0,
              "ticks": ""
             }
            },
            "type": "parcoords"
           }
          ],
          "pie": [
           {
            "automargin": true,
            "type": "pie"
           }
          ],
          "scatter": [
           {
            "fillpattern": {
             "fillmode": "overlay",
             "size": 10,
             "solidity": 0.2
            },
            "type": "scatter"
           }
          ],
          "scatter3d": [
           {
            "line": {
             "colorbar": {
              "outlinewidth": 0,
              "ticks": ""
             }
            },
            "marker": {
             "colorbar": {
              "outlinewidth": 0,
              "ticks": ""
             }
            },
            "type": "scatter3d"
           }
          ],
          "scattercarpet": [
           {
            "marker": {
             "colorbar": {
              "outlinewidth": 0,
              "ticks": ""
             }
            },
            "type": "scattercarpet"
           }
          ],
          "scattergeo": [
           {
            "marker": {
             "colorbar": {
              "outlinewidth": 0,
              "ticks": ""
             }
            },
            "type": "scattergeo"
           }
          ],
          "scattergl": [
           {
            "marker": {
             "colorbar": {
              "outlinewidth": 0,
              "ticks": ""
             }
            },
            "type": "scattergl"
           }
          ],
          "scattermap": [
           {
            "marker": {
             "colorbar": {
              "outlinewidth": 0,
              "ticks": ""
             }
            },
            "type": "scattermap"
           }
          ],
          "scattermapbox": [
           {
            "marker": {
             "colorbar": {
              "outlinewidth": 0,
              "ticks": ""
             }
            },
            "type": "scattermapbox"
           }
          ],
          "scatterpolar": [
           {
            "marker": {
             "colorbar": {
              "outlinewidth": 0,
              "ticks": ""
             }
            },
            "type": "scatterpolar"
           }
          ],
          "scatterpolargl": [
           {
            "marker": {
             "colorbar": {
              "outlinewidth": 0,
              "ticks": ""
             }
            },
            "type": "scatterpolargl"
           }
          ],
          "scatterternary": [
           {
            "marker": {
             "colorbar": {
              "outlinewidth": 0,
              "ticks": ""
             }
            },
            "type": "scatterternary"
           }
          ],
          "surface": [
           {
            "colorbar": {
             "outlinewidth": 0,
             "ticks": ""
            },
            "colorscale": [
             [
              0,
              "#0d0887"
             ],
             [
              0.1111111111111111,
              "#46039f"
             ],
             [
              0.2222222222222222,
              "#7201a8"
             ],
             [
              0.3333333333333333,
              "#9c179e"
             ],
             [
              0.4444444444444444,
              "#bd3786"
             ],
             [
              0.5555555555555556,
              "#d8576b"
             ],
             [
              0.6666666666666666,
              "#ed7953"
             ],
             [
              0.7777777777777778,
              "#fb9f3a"
             ],
             [
              0.8888888888888888,
              "#fdca26"
             ],
             [
              1,
              "#f0f921"
             ]
            ],
            "type": "surface"
           }
          ],
          "table": [
           {
            "cells": {
             "fill": {
              "color": "#EBF0F8"
             },
             "line": {
              "color": "white"
             }
            },
            "header": {
             "fill": {
              "color": "#C8D4E3"
             },
             "line": {
              "color": "white"
             }
            },
            "type": "table"
           }
          ]
         },
         "layout": {
          "annotationdefaults": {
           "arrowcolor": "#2a3f5f",
           "arrowhead": 0,
           "arrowwidth": 1
          },
          "autotypenumbers": "strict",
          "coloraxis": {
           "colorbar": {
            "outlinewidth": 0,
            "ticks": ""
           }
          },
          "colorscale": {
           "diverging": [
            [
             0,
             "#8e0152"
            ],
            [
             0.1,
             "#c51b7d"
            ],
            [
             0.2,
             "#de77ae"
            ],
            [
             0.3,
             "#f1b6da"
            ],
            [
             0.4,
             "#fde0ef"
            ],
            [
             0.5,
             "#f7f7f7"
            ],
            [
             0.6,
             "#e6f5d0"
            ],
            [
             0.7,
             "#b8e186"
            ],
            [
             0.8,
             "#7fbc41"
            ],
            [
             0.9,
             "#4d9221"
            ],
            [
             1,
             "#276419"
            ]
           ],
           "sequential": [
            [
             0,
             "#0d0887"
            ],
            [
             0.1111111111111111,
             "#46039f"
            ],
            [
             0.2222222222222222,
             "#7201a8"
            ],
            [
             0.3333333333333333,
             "#9c179e"
            ],
            [
             0.4444444444444444,
             "#bd3786"
            ],
            [
             0.5555555555555556,
             "#d8576b"
            ],
            [
             0.6666666666666666,
             "#ed7953"
            ],
            [
             0.7777777777777778,
             "#fb9f3a"
            ],
            [
             0.8888888888888888,
             "#fdca26"
            ],
            [
             1,
             "#f0f921"
            ]
           ],
           "sequentialminus": [
            [
             0,
             "#0d0887"
            ],
            [
             0.1111111111111111,
             "#46039f"
            ],
            [
             0.2222222222222222,
             "#7201a8"
            ],
            [
             0.3333333333333333,
             "#9c179e"
            ],
            [
             0.4444444444444444,
             "#bd3786"
            ],
            [
             0.5555555555555556,
             "#d8576b"
            ],
            [
             0.6666666666666666,
             "#ed7953"
            ],
            [
             0.7777777777777778,
             "#fb9f3a"
            ],
            [
             0.8888888888888888,
             "#fdca26"
            ],
            [
             1,
             "#f0f921"
            ]
           ]
          },
          "colorway": [
           "#636efa",
           "#EF553B",
           "#00cc96",
           "#ab63fa",
           "#FFA15A",
           "#19d3f3",
           "#FF6692",
           "#B6E880",
           "#FF97FF",
           "#FECB52"
          ],
          "font": {
           "color": "#2a3f5f"
          },
          "geo": {
           "bgcolor": "white",
           "lakecolor": "white",
           "landcolor": "#E5ECF6",
           "showlakes": true,
           "showland": true,
           "subunitcolor": "white"
          },
          "hoverlabel": {
           "align": "left"
          },
          "hovermode": "closest",
          "mapbox": {
           "style": "light"
          },
          "paper_bgcolor": "white",
          "plot_bgcolor": "#E5ECF6",
          "polar": {
           "angularaxis": {
            "gridcolor": "white",
            "linecolor": "white",
            "ticks": ""
           },
           "bgcolor": "#E5ECF6",
           "radialaxis": {
            "gridcolor": "white",
            "linecolor": "white",
            "ticks": ""
           }
          },
          "scene": {
           "xaxis": {
            "backgroundcolor": "#E5ECF6",
            "gridcolor": "white",
            "gridwidth": 2,
            "linecolor": "white",
            "showbackground": true,
            "ticks": "",
            "zerolinecolor": "white"
           },
           "yaxis": {
            "backgroundcolor": "#E5ECF6",
            "gridcolor": "white",
            "gridwidth": 2,
            "linecolor": "white",
            "showbackground": true,
            "ticks": "",
            "zerolinecolor": "white"
           },
           "zaxis": {
            "backgroundcolor": "#E5ECF6",
            "gridcolor": "white",
            "gridwidth": 2,
            "linecolor": "white",
            "showbackground": true,
            "ticks": "",
            "zerolinecolor": "white"
           }
          },
          "shapedefaults": {
           "line": {
            "color": "#2a3f5f"
           }
          },
          "ternary": {
           "aaxis": {
            "gridcolor": "white",
            "linecolor": "white",
            "ticks": ""
           },
           "baxis": {
            "gridcolor": "white",
            "linecolor": "white",
            "ticks": ""
           },
           "bgcolor": "#E5ECF6",
           "caxis": {
            "gridcolor": "white",
            "linecolor": "white",
            "ticks": ""
           }
          },
          "title": {
           "x": 0.05
          },
          "xaxis": {
           "automargin": true,
           "gridcolor": "white",
           "linecolor": "white",
           "ticks": "",
           "title": {
            "standoff": 15
           },
           "zerolinecolor": "white",
           "zerolinewidth": 2
          },
          "yaxis": {
           "automargin": true,
           "gridcolor": "white",
           "linecolor": "white",
           "ticks": "",
           "title": {
            "standoff": 15
           },
           "zerolinecolor": "white",
           "zerolinewidth": 2
          }
         }
        },
        "title": {
         "text": "L0 vs L2 Loss (9B Model)"
        },
        "width": 600,
        "xaxis": {
         "title": {
          "text": "L0"
         }
        },
        "yaxis": {
         "title": {
          "text": "L2 Loss"
         }
        }
       }
      }
     },
     "metadata": {},
     "output_type": "display_data"
    }
   ],
   "source": [
    "# Same thing for l2_loss\n",
    "# For our 16k data\n",
    "l0s = []\n",
    "l2_loss = []\n",
    "for trainer in our_16k_data:\n",
    "    l0s.append(our_16k_data[trainer]['l0'])\n",
    "    l2_loss.append(our_16k_data[trainer]['l2_loss'])\n",
    "\n",
    "# Sort our_data by l0 values\n",
    "sorted_our = sorted(zip(l0s, l2_loss))\n",
    "l0s_sorted, l2_loss_sorted = zip(*sorted_our)\n",
    "l0s_sorted = list(l0s_sorted)\n",
    "l2_loss_sorted = list(l2_loss_sorted)\n",
    "\n",
    "# For gemma 16k data\n",
    "gemma_l0s = []\n",
    "gemma_l2_loss = []\n",
    "for key in gemma_16k_data:\n",
    "    gemma_l0s.append(gemma_16k_data[key]['l0'])\n",
    "    gemma_l2_loss.append(gemma_16k_data[key]['l2_loss'])\n",
    "\n",
    "# Sort gemma_data by l0 values\n",
    "sorted_gemma = sorted(zip(gemma_l0s, gemma_l2_loss))\n",
    "gemma_l0s_sorted, gemma_l2_loss_sorted = zip(*sorted_gemma)\n",
    "gemma_l0s_sorted = list(gemma_l0s_sorted)\n",
    "gemma_l2_loss_sorted = list(gemma_l2_loss_sorted)\n",
    "\n",
    "# Create figure with all traces\n",
    "fig = go.Figure()\n",
    "\n",
    "# Add our 16k data trace\n",
    "fig.add_trace(go.Scatter(\n",
    "    x=l0s_sorted,\n",
    "    y=l2_loss_sorted,\n",
    "    mode='lines+markers',\n",
    "    name='Our Model (16k)',\n",
    "    marker=dict(symbol='circle'),\n",
    "    line=dict(color='blue', dash='solid')\n",
    "))\n",
    "\n",
    "# Add gemma 16k data trace\n",
    "fig.add_trace(go.Scatter(\n",
    "    x=gemma_l0s_sorted,\n",
    "    y=gemma_l2_loss_sorted,\n",
    "    mode='lines+markers',\n",
    "    name='Gemma Model (16k)',\n",
    "    marker=dict(symbol='circle'),\n",
    "    line=dict(color='red', dash='solid')\n",
    "))\n",
    "\n",
    "# Add our 65k data\n",
    "l0s_65k = []\n",
    "l2_loss_65k = []\n",
    "for trainer in our_65k_data:\n",
    "    l0s_65k.append(our_65k_data[trainer]['l0'])\n",
    "    l2_loss_65k.append(our_65k_data[trainer]['l2_loss'])\n",
    "\n",
    "sorted_our_65k = sorted(zip(l0s_65k, l2_loss_65k))\n",
    "l0s_sorted_65k, l2_loss_sorted_65k = zip(*sorted_our_65k)\n",
    "\n",
    "fig.add_trace(go.Scatter(\n",
    "    x=l0s_sorted_65k,\n",
    "    y=l2_loss_sorted_65k,\n",
    "    mode='lines+markers',\n",
    "    name='Our Model (65k)',\n",
    "    marker=dict(symbol='circle'),\n",
    "    line=dict(color='blue', dash='dash')\n",
    "))\n",
    "\n",
    "# Add gemma 65k data\n",
    "gemma_l0s_65k = []\n",
    "gemma_l2_loss_65k = []\n",
    "for key in gemma_65k_data:\n",
    "    gemma_l0s_65k.append(gemma_65k_data[key]['l0'])\n",
    "    gemma_l2_loss_65k.append(gemma_65k_data[key]['l2_loss'])\n",
    "\n",
    "sorted_gemma_65k = sorted(zip(gemma_l0s_65k, gemma_l2_loss_65k))\n",
    "gemma_l0s_sorted_65k, gemma_l2_loss_sorted_65k = zip(*sorted_gemma_65k)\n",
    "\n",
    "fig.add_trace(go.Scatter(\n",
    "    x=gemma_l0s_sorted_65k,\n",
    "    y=gemma_l2_loss_sorted_65k,\n",
    "    mode='lines+markers',\n",
    "    name='Gemma Model (65k)',\n",
    "    marker=dict(symbol='circle'),\n",
    "    line=dict(color='red', dash='dash')\n",
    "))\n",
    "\n",
    "# Update layout\n",
    "fig.update_layout(\n",
    "    title=\"L0 vs L2 Loss\",\n",
    "    xaxis_title=\"L0\",\n",
    "    yaxis_title=\"L2 Loss\",\n",
    "    width=600,\n",
    "    showlegend=True\n",
    ")\n",
    "\n",
    "fig.show()\n",
    "\n",
    "# Create second figure for 9B models\n",
    "fig2 = go.Figure()\n",
    "\n",
    "# For our 16k 9b data\n",
    "l0s_9b = []\n",
    "l2_loss_9b = []\n",
    "for trainer in our_16k_9b_data:\n",
    "    l0s_9b.append(our_16k_9b_data[trainer]['l0'])\n",
    "    l2_loss_9b.append(our_16k_9b_data[trainer]['l2_loss'])\n",
    "\n",
    "# Sort 9b data by l0 values\n",
    "sorted_9b = sorted(zip(l0s_9b, l2_loss_9b))\n",
    "l0s_sorted_9b, l2_loss_sorted_9b = zip(*sorted_9b)\n",
    "\n",
    "fig2.add_trace(go.Scatter(\n",
    "    x=l0s_sorted_9b,\n",
    "    y=l2_loss_sorted_9b,\n",
    "    mode='lines+markers',\n",
    "    name='Our Model (16k, 9B)',\n",
    "    marker=dict(symbol='circle'),\n",
    "    line=dict(color='blue', dash='solid')\n",
    "))\n",
    "\n",
    "# For our 32k 9b data\n",
    "l0s_32k_9b = []\n",
    "l2_loss_32k_9b = []\n",
    "for trainer in our_32k_9b_data:\n",
    "    l0s_32k_9b.append(our_32k_9b_data[trainer]['l0'])\n",
    "    l2_loss_32k_9b.append(our_32k_9b_data[trainer]['l2_loss'])\n",
    "\n",
    "# Sort our 32k 9b data by l0 values\n",
    "sorted_32k_9b = sorted(zip(l0s_32k_9b, l2_loss_32k_9b))\n",
    "l0s_sorted_32k_9b, l2_loss_sorted_32k_9b = zip(*sorted_32k_9b)\n",
    "\n",
    "fig2.add_trace(go.Scatter(\n",
    "    x=l0s_sorted_32k_9b,\n",
    "    y=l2_loss_sorted_32k_9b,\n",
    "    mode='lines+markers',\n",
    "    name='Our Model (32k, 9B)',\n",
    "    marker=dict(symbol='circle'),\n",
    "    line=dict(color='blue', dash='dash')\n",
    "))\n",
    "\n",
    "# For gemma 16k 9b data\n",
    "gemma_l0s_9b = []\n",
    "gemma_l2_loss_9b = []\n",
    "for key in gemma_16k_9b_data:\n",
    "    gemma_l0s_9b.append(gemma_16k_9b_data[key]['l0'])\n",
    "    gemma_l2_loss_9b.append(gemma_16k_9b_data[key]['l2_loss'])\n",
    "\n",
    "# Sort gemma 9b data by l0 values\n",
    "sorted_gemma_9b = sorted(zip(gemma_l0s_9b, gemma_l2_loss_9b))\n",
    "gemma_l0s_sorted_9b, gemma_l2_loss_sorted_9b = zip(*sorted_gemma_9b)\n",
    "\n",
    "fig2.add_trace(go.Scatter(\n",
    "    x=gemma_l0s_sorted_9b,\n",
    "    y=gemma_l2_loss_sorted_9b,\n",
    "    mode='lines+markers',\n",
    "    name='Gemma Model (16k, 9B)',\n",
    "    marker=dict(symbol='circle'),\n",
    "    line=dict(color='red', dash='solid')\n",
    "))\n",
    "\n",
    "# For gemma 32k 9b data\n",
    "gemma_32k_l0s_9b = []\n",
    "gemma_32k_l2_loss_9b = []\n",
    "for key in gemma_32k_9b_data:\n",
    "    gemma_32k_l0s_9b.append(gemma_32k_9b_data[key]['l0'])\n",
    "    gemma_32k_l2_loss_9b.append(gemma_32k_9b_data[key]['l2_loss'])\n",
    "\n",
    "# Sort gemma 32k 9b data by l0 values\n",
    "sorted_gemma_32k_9b = sorted(zip(gemma_32k_l0s_9b, gemma_32k_l2_loss_9b))\n",
    "gemma_32k_l0s_sorted_9b, gemma_32k_l2_loss_sorted_9b = zip(*sorted_gemma_32k_9b)\n",
    "\n",
    "fig2.add_trace(go.Scatter(\n",
    "    x=gemma_32k_l0s_sorted_9b,\n",
    "    y=gemma_32k_l2_loss_sorted_9b,\n",
    "    mode='lines+markers',\n",
    "    name='Gemma Model (32k, 9B)',\n",
    "    marker=dict(symbol='circle'),\n",
    "    line=dict(color='red', dash='dash')\n",
    "))\n",
    "\n",
    "# Update layout for second figure\n",
    "fig2.update_layout(\n",
    "    title=\"L0 vs L2 Loss (9B Model)\",\n",
    "    xaxis_title=\"L0\",\n",
    "    yaxis_title=\"L2 Loss\",\n",
    "    width=600,\n",
    "    showlegend=True\n",
    ")\n",
    "\n",
    "fig2.show()\n"
   ]
  },
  {
   "cell_type": "markdown",
   "metadata": {},
   "source": [
    "## Cosine Similarity"
   ]
  },
  {
   "cell_type": "code",
   "execution_count": 8,
   "metadata": {},
   "outputs": [
    {
     "data": {
      "application/vnd.plotly.v1+json": {
       "config": {
        "plotlyServerURL": "https://plot.ly"
       },
       "data": [
        {
         "legendgroup": "ours",
         "line": {
          "color": "#636EFA",
          "dash": "solid",
          "width": 5
         },
         "marker": {
          "size": 12,
          "symbol": "circle"
         },
         "mode": "lines+markers",
         "name": "Our Model",
         "showlegend": true,
         "type": "scatter",
         "x": [
          18.7971337890625,
          34.8091943359375,
          58.2791796875,
          122.336005859375,
          222.349736328125,
          360.7735693359375
         ],
         "xaxis": "x",
         "y": [
          0.92978515625,
          0.9374609375,
          0.94380859375,
          0.9530078125,
          0.9559375,
          0.95703125
         ],
         "yaxis": "y"
        },
        {
         "legendgroup": "ours",
         "line": {
          "color": "#636EFA",
          "dash": "dash",
          "width": 5
         },
         "marker": {
          "size": 12,
          "symbol": "circle"
         },
         "mode": "lines+markers",
         "name": "Our Model",
         "showlegend": false,
         "type": "scatter",
         "x": [
          17.1726953125,
          27.5861767578125,
          43.5634375,
          73.004189453125,
          134.1006201171875,
          272.9419873046875
         ],
         "xaxis": "x",
         "y": [
          0.94181640625,
          0.94884765625,
          0.9537890625,
          0.95966796875,
          0.961796875,
          0.96505859375
         ],
         "yaxis": "y"
        },
        {
         "legendgroup": "gemma",
         "line": {
          "color": "#EF553B",
          "dash": "solid",
          "width": 5
         },
         "marker": {
          "size": 12,
          "symbol": "circle"
         },
         "mode": "lines+markers",
         "name": "GemmaScope Model",
         "showlegend": true,
         "type": "scatter",
         "x": [
          22.6335298538208,
          40.16366771697998,
          76.59480045318604,
          152.31977714538573,
          313.53044342041017
         ],
         "xaxis": "x",
         "y": [
          0.87791015625,
          0.89302734375,
          0.9093359375,
          0.92501953125,
          0.94234375
         ],
         "yaxis": "y"
        },
        {
         "legendgroup": "gemma",
         "line": {
          "color": "#EF553B",
          "dash": "dash",
          "width": 5
         },
         "marker": {
          "size": 12,
          "symbol": "circle"
         },
         "mode": "lines+markers",
         "name": "GemmaScope Model",
         "showlegend": false,
         "type": "scatter",
         "x": [
          21.512322492599488,
          36.373988513946536,
          64.05273630142212,
          119.38513919830322,
          241.35627159118653
         ],
         "xaxis": "x",
         "y": [
          0.90009765625,
          0.91384765625,
          0.92654296875,
          0.9394921875,
          0.95255859375
         ],
         "yaxis": "y"
        },
        {
         "legendgroup": "ours",
         "line": {
          "color": "#636EFA",
          "dash": "solid",
          "width": 5
         },
         "marker": {
          "size": 12,
          "symbol": "circle"
         },
         "mode": "lines+markers",
         "name": "Our Model",
         "showlegend": false,
         "type": "scatter",
         "x": [
          17.14177734375,
          31.78025390625,
          57.6209033203125,
          118.3580810546875,
          224.380615234375,
          440.3301123046875
         ],
         "xaxis": "x2",
         "y": [
          0.91568359375,
          0.924375,
          0.93103515625,
          0.94033203125,
          0.94533203125,
          0.9493359375
         ],
         "yaxis": "y2"
        },
        {
         "legendgroup": "ours",
         "line": {
          "color": "#636EFA",
          "dash": "dash",
          "width": 5
         },
         "marker": {
          "size": 12,
          "symbol": "circle"
         },
         "mode": "lines+markers",
         "name": "Our Model",
         "showlegend": false,
         "type": "scatter",
         "x": [
          16.8319873046875,
          27.5696240234375,
          56.870859375,
          98.8058642578125,
          215.4338427734375,
          398.029189453125
         ],
         "xaxis": "x2",
         "y": [
          0.92265625,
          0.9300390625,
          0.93849609375,
          0.944140625,
          0.952421875,
          0.953125
         ],
         "yaxis": "y2"
        },
        {
         "legendgroup": "gemma",
         "line": {
          "color": "#EF553B",
          "dash": "solid",
          "width": 5
         },
         "marker": {
          "size": 12,
          "symbol": "circle"
         },
         "mode": "lines+markers",
         "name": "GemmaScope Model",
         "showlegend": false,
         "type": "scatter",
         "x": [
          22.6335298538208,
          40.16366771697998,
          76.59480045318604,
          152.31977714538573,
          313.53044342041017
         ],
         "xaxis": "x2",
         "y": [
          0.87791015625,
          0.89302734375,
          0.9093359375,
          0.92501953125,
          0.94234375
         ],
         "yaxis": "y2"
        },
        {
         "legendgroup": "gemma",
         "line": {
          "color": "#EF553B",
          "dash": "dash",
          "width": 5
         },
         "marker": {
          "size": 12,
          "symbol": "circle"
         },
         "mode": "lines+markers",
         "name": "GemmaScope Model",
         "showlegend": false,
         "type": "scatter",
         "x": [
          10.93445186138153,
          56.81004552841186,
          373.9029344177246
         ],
         "xaxis": "x2",
         "y": [
          0.85431640625,
          0.90009765625,
          0.9430859375
         ],
         "yaxis": "y2"
        }
       ],
       "layout": {
        "annotations": [
         {
          "font": {
           "size": 24
          },
          "showarrow": false,
          "text": "Gemma-2-2B",
          "x": 0.2375,
          "xanchor": "center",
          "xref": "paper",
          "y": 1,
          "yanchor": "bottom",
          "yref": "paper"
         },
         {
          "font": {
           "size": 24
          },
          "showarrow": false,
          "text": "Gemma-2-9B",
          "x": 0.7625,
          "xanchor": "center",
          "xref": "paper",
          "y": 1,
          "yanchor": "bottom",
          "yref": "paper"
         },
         {
          "font": {
           "size": 20
          },
          "showarrow": false,
          "text": "16k",
          "x": 0.98,
          "xanchor": "right",
          "xref": "x domain",
          "y": 0.15,
          "yanchor": "bottom",
          "yref": "y domain"
         },
         {
          "font": {
           "size": 20
          },
          "showarrow": false,
          "text": "65k",
          "x": 0.98,
          "xanchor": "right",
          "xref": "x domain",
          "y": 0.07,
          "yanchor": "bottom",
          "yref": "y domain"
         },
         {
          "font": {
           "size": 20
          },
          "showarrow": false,
          "text": "16k",
          "x": 0.98,
          "xanchor": "right",
          "xref": "x2 domain",
          "y": 0.15,
          "yanchor": "bottom",
          "yref": "y2 domain"
         },
         {
          "font": {
           "size": 20
          },
          "showarrow": false,
          "text": "32k",
          "x": 0.98,
          "xanchor": "right",
          "xref": "x2 domain",
          "y": 0.07,
          "yanchor": "bottom",
          "yref": "y2 domain"
         }
        ],
        "font": {
         "family": "Arial",
         "size": 20
        },
        "height": 500,
        "legend": {
         "itemsizing": "constant",
         "orientation": "h",
         "x": 0.5,
         "xanchor": "center",
         "y": -0.2,
         "yanchor": "top"
        },
        "margin": {
         "b": 80,
         "l": 80,
         "r": 30,
         "t": 50
        },
        "paper_bgcolor": "white",
        "plot_bgcolor": "white",
        "shapes": [
         {
          "line": {
           "color": "black",
           "width": 5
          },
          "type": "line",
          "x0": 0.75,
          "x1": 0.95,
          "xref": "x domain",
          "y0": 0.15,
          "y1": 0.15,
          "yref": "y domain"
         },
         {
          "line": {
           "color": "black",
           "dash": "dash",
           "width": 5
          },
          "type": "line",
          "x0": 0.75,
          "x1": 0.95,
          "xref": "x domain",
          "y0": 0.07,
          "y1": 0.07,
          "yref": "y domain"
         },
         {
          "line": {
           "color": "black",
           "width": 5
          },
          "type": "line",
          "x0": 0.75,
          "x1": 0.95,
          "xref": "x2 domain",
          "y0": 0.15,
          "y1": 0.15,
          "yref": "y2 domain"
         },
         {
          "line": {
           "color": "black",
           "dash": "dash",
           "width": 5
          },
          "type": "line",
          "x0": 0.75,
          "x1": 0.95,
          "xref": "x2 domain",
          "y0": 0.07,
          "y1": 0.07,
          "yref": "y2 domain"
         }
        ],
        "template": {
         "data": {
          "bar": [
           {
            "error_x": {
             "color": "#2a3f5f"
            },
            "error_y": {
             "color": "#2a3f5f"
            },
            "marker": {
             "line": {
              "color": "#E5ECF6",
              "width": 0.5
             },
             "pattern": {
              "fillmode": "overlay",
              "size": 10,
              "solidity": 0.2
             }
            },
            "type": "bar"
           }
          ],
          "barpolar": [
           {
            "marker": {
             "line": {
              "color": "#E5ECF6",
              "width": 0.5
             },
             "pattern": {
              "fillmode": "overlay",
              "size": 10,
              "solidity": 0.2
             }
            },
            "type": "barpolar"
           }
          ],
          "carpet": [
           {
            "aaxis": {
             "endlinecolor": "#2a3f5f",
             "gridcolor": "white",
             "linecolor": "white",
             "minorgridcolor": "white",
             "startlinecolor": "#2a3f5f"
            },
            "baxis": {
             "endlinecolor": "#2a3f5f",
             "gridcolor": "white",
             "linecolor": "white",
             "minorgridcolor": "white",
             "startlinecolor": "#2a3f5f"
            },
            "type": "carpet"
           }
          ],
          "choropleth": [
           {
            "colorbar": {
             "outlinewidth": 0,
             "ticks": ""
            },
            "type": "choropleth"
           }
          ],
          "contour": [
           {
            "colorbar": {
             "outlinewidth": 0,
             "ticks": ""
            },
            "colorscale": [
             [
              0,
              "#0d0887"
             ],
             [
              0.1111111111111111,
              "#46039f"
             ],
             [
              0.2222222222222222,
              "#7201a8"
             ],
             [
              0.3333333333333333,
              "#9c179e"
             ],
             [
              0.4444444444444444,
              "#bd3786"
             ],
             [
              0.5555555555555556,
              "#d8576b"
             ],
             [
              0.6666666666666666,
              "#ed7953"
             ],
             [
              0.7777777777777778,
              "#fb9f3a"
             ],
             [
              0.8888888888888888,
              "#fdca26"
             ],
             [
              1,
              "#f0f921"
             ]
            ],
            "type": "contour"
           }
          ],
          "contourcarpet": [
           {
            "colorbar": {
             "outlinewidth": 0,
             "ticks": ""
            },
            "type": "contourcarpet"
           }
          ],
          "heatmap": [
           {
            "colorbar": {
             "outlinewidth": 0,
             "ticks": ""
            },
            "colorscale": [
             [
              0,
              "#0d0887"
             ],
             [
              0.1111111111111111,
              "#46039f"
             ],
             [
              0.2222222222222222,
              "#7201a8"
             ],
             [
              0.3333333333333333,
              "#9c179e"
             ],
             [
              0.4444444444444444,
              "#bd3786"
             ],
             [
              0.5555555555555556,
              "#d8576b"
             ],
             [
              0.6666666666666666,
              "#ed7953"
             ],
             [
              0.7777777777777778,
              "#fb9f3a"
             ],
             [
              0.8888888888888888,
              "#fdca26"
             ],
             [
              1,
              "#f0f921"
             ]
            ],
            "type": "heatmap"
           }
          ],
          "histogram": [
           {
            "marker": {
             "pattern": {
              "fillmode": "overlay",
              "size": 10,
              "solidity": 0.2
             }
            },
            "type": "histogram"
           }
          ],
          "histogram2d": [
           {
            "colorbar": {
             "outlinewidth": 0,
             "ticks": ""
            },
            "colorscale": [
             [
              0,
              "#0d0887"
             ],
             [
              0.1111111111111111,
              "#46039f"
             ],
             [
              0.2222222222222222,
              "#7201a8"
             ],
             [
              0.3333333333333333,
              "#9c179e"
             ],
             [
              0.4444444444444444,
              "#bd3786"
             ],
             [
              0.5555555555555556,
              "#d8576b"
             ],
             [
              0.6666666666666666,
              "#ed7953"
             ],
             [
              0.7777777777777778,
              "#fb9f3a"
             ],
             [
              0.8888888888888888,
              "#fdca26"
             ],
             [
              1,
              "#f0f921"
             ]
            ],
            "type": "histogram2d"
           }
          ],
          "histogram2dcontour": [
           {
            "colorbar": {
             "outlinewidth": 0,
             "ticks": ""
            },
            "colorscale": [
             [
              0,
              "#0d0887"
             ],
             [
              0.1111111111111111,
              "#46039f"
             ],
             [
              0.2222222222222222,
              "#7201a8"
             ],
             [
              0.3333333333333333,
              "#9c179e"
             ],
             [
              0.4444444444444444,
              "#bd3786"
             ],
             [
              0.5555555555555556,
              "#d8576b"
             ],
             [
              0.6666666666666666,
              "#ed7953"
             ],
             [
              0.7777777777777778,
              "#fb9f3a"
             ],
             [
              0.8888888888888888,
              "#fdca26"
             ],
             [
              1,
              "#f0f921"
             ]
            ],
            "type": "histogram2dcontour"
           }
          ],
          "mesh3d": [
           {
            "colorbar": {
             "outlinewidth": 0,
             "ticks": ""
            },
            "type": "mesh3d"
           }
          ],
          "parcoords": [
           {
            "line": {
             "colorbar": {
              "outlinewidth": 0,
              "ticks": ""
             }
            },
            "type": "parcoords"
           }
          ],
          "pie": [
           {
            "automargin": true,
            "type": "pie"
           }
          ],
          "scatter": [
           {
            "fillpattern": {
             "fillmode": "overlay",
             "size": 10,
             "solidity": 0.2
            },
            "type": "scatter"
           }
          ],
          "scatter3d": [
           {
            "line": {
             "colorbar": {
              "outlinewidth": 0,
              "ticks": ""
             }
            },
            "marker": {
             "colorbar": {
              "outlinewidth": 0,
              "ticks": ""
             }
            },
            "type": "scatter3d"
           }
          ],
          "scattercarpet": [
           {
            "marker": {
             "colorbar": {
              "outlinewidth": 0,
              "ticks": ""
             }
            },
            "type": "scattercarpet"
           }
          ],
          "scattergeo": [
           {
            "marker": {
             "colorbar": {
              "outlinewidth": 0,
              "ticks": ""
             }
            },
            "type": "scattergeo"
           }
          ],
          "scattergl": [
           {
            "marker": {
             "colorbar": {
              "outlinewidth": 0,
              "ticks": ""
             }
            },
            "type": "scattergl"
           }
          ],
          "scattermap": [
           {
            "marker": {
             "colorbar": {
              "outlinewidth": 0,
              "ticks": ""
             }
            },
            "type": "scattermap"
           }
          ],
          "scattermapbox": [
           {
            "marker": {
             "colorbar": {
              "outlinewidth": 0,
              "ticks": ""
             }
            },
            "type": "scattermapbox"
           }
          ],
          "scatterpolar": [
           {
            "marker": {
             "colorbar": {
              "outlinewidth": 0,
              "ticks": ""
             }
            },
            "type": "scatterpolar"
           }
          ],
          "scatterpolargl": [
           {
            "marker": {
             "colorbar": {
              "outlinewidth": 0,
              "ticks": ""
             }
            },
            "type": "scatterpolargl"
           }
          ],
          "scatterternary": [
           {
            "marker": {
             "colorbar": {
              "outlinewidth": 0,
              "ticks": ""
             }
            },
            "type": "scatterternary"
           }
          ],
          "surface": [
           {
            "colorbar": {
             "outlinewidth": 0,
             "ticks": ""
            },
            "colorscale": [
             [
              0,
              "#0d0887"
             ],
             [
              0.1111111111111111,
              "#46039f"
             ],
             [
              0.2222222222222222,
              "#7201a8"
             ],
             [
              0.3333333333333333,
              "#9c179e"
             ],
             [
              0.4444444444444444,
              "#bd3786"
             ],
             [
              0.5555555555555556,
              "#d8576b"
             ],
             [
              0.6666666666666666,
              "#ed7953"
             ],
             [
              0.7777777777777778,
              "#fb9f3a"
             ],
             [
              0.8888888888888888,
              "#fdca26"
             ],
             [
              1,
              "#f0f921"
             ]
            ],
            "type": "surface"
           }
          ],
          "table": [
           {
            "cells": {
             "fill": {
              "color": "#EBF0F8"
             },
             "line": {
              "color": "white"
             }
            },
            "header": {
             "fill": {
              "color": "#C8D4E3"
             },
             "line": {
              "color": "white"
             }
            },
            "type": "table"
           }
          ]
         },
         "layout": {
          "annotationdefaults": {
           "arrowcolor": "#2a3f5f",
           "arrowhead": 0,
           "arrowwidth": 1
          },
          "autotypenumbers": "strict",
          "coloraxis": {
           "colorbar": {
            "outlinewidth": 0,
            "ticks": ""
           }
          },
          "colorscale": {
           "diverging": [
            [
             0,
             "#8e0152"
            ],
            [
             0.1,
             "#c51b7d"
            ],
            [
             0.2,
             "#de77ae"
            ],
            [
             0.3,
             "#f1b6da"
            ],
            [
             0.4,
             "#fde0ef"
            ],
            [
             0.5,
             "#f7f7f7"
            ],
            [
             0.6,
             "#e6f5d0"
            ],
            [
             0.7,
             "#b8e186"
            ],
            [
             0.8,
             "#7fbc41"
            ],
            [
             0.9,
             "#4d9221"
            ],
            [
             1,
             "#276419"
            ]
           ],
           "sequential": [
            [
             0,
             "#0d0887"
            ],
            [
             0.1111111111111111,
             "#46039f"
            ],
            [
             0.2222222222222222,
             "#7201a8"
            ],
            [
             0.3333333333333333,
             "#9c179e"
            ],
            [
             0.4444444444444444,
             "#bd3786"
            ],
            [
             0.5555555555555556,
             "#d8576b"
            ],
            [
             0.6666666666666666,
             "#ed7953"
            ],
            [
             0.7777777777777778,
             "#fb9f3a"
            ],
            [
             0.8888888888888888,
             "#fdca26"
            ],
            [
             1,
             "#f0f921"
            ]
           ],
           "sequentialminus": [
            [
             0,
             "#0d0887"
            ],
            [
             0.1111111111111111,
             "#46039f"
            ],
            [
             0.2222222222222222,
             "#7201a8"
            ],
            [
             0.3333333333333333,
             "#9c179e"
            ],
            [
             0.4444444444444444,
             "#bd3786"
            ],
            [
             0.5555555555555556,
             "#d8576b"
            ],
            [
             0.6666666666666666,
             "#ed7953"
            ],
            [
             0.7777777777777778,
             "#fb9f3a"
            ],
            [
             0.8888888888888888,
             "#fdca26"
            ],
            [
             1,
             "#f0f921"
            ]
           ]
          },
          "colorway": [
           "#636efa",
           "#EF553B",
           "#00cc96",
           "#ab63fa",
           "#FFA15A",
           "#19d3f3",
           "#FF6692",
           "#B6E880",
           "#FF97FF",
           "#FECB52"
          ],
          "font": {
           "color": "#2a3f5f"
          },
          "geo": {
           "bgcolor": "white",
           "lakecolor": "white",
           "landcolor": "#E5ECF6",
           "showlakes": true,
           "showland": true,
           "subunitcolor": "white"
          },
          "hoverlabel": {
           "align": "left"
          },
          "hovermode": "closest",
          "mapbox": {
           "style": "light"
          },
          "paper_bgcolor": "white",
          "plot_bgcolor": "#E5ECF6",
          "polar": {
           "angularaxis": {
            "gridcolor": "white",
            "linecolor": "white",
            "ticks": ""
           },
           "bgcolor": "#E5ECF6",
           "radialaxis": {
            "gridcolor": "white",
            "linecolor": "white",
            "ticks": ""
           }
          },
          "scene": {
           "xaxis": {
            "backgroundcolor": "#E5ECF6",
            "gridcolor": "white",
            "gridwidth": 2,
            "linecolor": "white",
            "showbackground": true,
            "ticks": "",
            "zerolinecolor": "white"
           },
           "yaxis": {
            "backgroundcolor": "#E5ECF6",
            "gridcolor": "white",
            "gridwidth": 2,
            "linecolor": "white",
            "showbackground": true,
            "ticks": "",
            "zerolinecolor": "white"
           },
           "zaxis": {
            "backgroundcolor": "#E5ECF6",
            "gridcolor": "white",
            "gridwidth": 2,
            "linecolor": "white",
            "showbackground": true,
            "ticks": "",
            "zerolinecolor": "white"
           }
          },
          "shapedefaults": {
           "line": {
            "color": "#2a3f5f"
           }
          },
          "ternary": {
           "aaxis": {
            "gridcolor": "white",
            "linecolor": "white",
            "ticks": ""
           },
           "baxis": {
            "gridcolor": "white",
            "linecolor": "white",
            "ticks": ""
           },
           "bgcolor": "#E5ECF6",
           "caxis": {
            "gridcolor": "white",
            "linecolor": "white",
            "ticks": ""
           }
          },
          "title": {
           "x": 0.05
          },
          "xaxis": {
           "automargin": true,
           "gridcolor": "white",
           "linecolor": "white",
           "ticks": "",
           "title": {
            "standoff": 15
           },
           "zerolinecolor": "white",
           "zerolinewidth": 2
          },
          "yaxis": {
           "automargin": true,
           "gridcolor": "white",
           "linecolor": "white",
           "ticks": "",
           "title": {
            "standoff": 15
           },
           "zerolinecolor": "white",
           "zerolinewidth": 2
          }
         }
        },
        "width": 1200,
        "xaxis": {
         "anchor": "y",
         "domain": [
          0,
          0.475
         ],
         "gridcolor": "lightgray",
         "gridwidth": 1,
         "showgrid": true,
         "title": {
          "text": "L0"
         },
         "zeroline": true,
         "zerolinecolor": "lightgray",
         "zerolinewidth": 1
        },
        "xaxis2": {
         "anchor": "y2",
         "domain": [
          0.525,
          1
         ],
         "gridcolor": "lightgray",
         "gridwidth": 1,
         "showgrid": true,
         "title": {
          "text": "L0"
         },
         "zeroline": true,
         "zerolinecolor": "lightgray",
         "zerolinewidth": 1
        },
        "yaxis": {
         "anchor": "x",
         "domain": [
          0,
          1
         ],
         "gridcolor": "lightgray",
         "gridwidth": 1,
         "range": [
          0.8487792968750001,
          0.970595703125
         ],
         "showgrid": true,
         "title": {
          "text": "Cosine Similarity"
         },
         "zeroline": true,
         "zerolinecolor": "lightgray",
         "zerolinewidth": 1
        },
        "yaxis2": {
         "anchor": "x2",
         "domain": [
          0,
          1
         ],
         "gridcolor": "lightgray",
         "gridwidth": 1,
         "range": [
          0.8487792968750001,
          0.970595703125
         ],
         "showgrid": true,
         "zeroline": true,
         "zerolinecolor": "lightgray",
         "zerolinewidth": 1
        }
       }
      }
     },
     "metadata": {},
     "output_type": "display_data"
    }
   ],
   "source": [
    "import plotly.graph_objects as go\n",
    "from plotly.subplots import make_subplots\n",
    "\n",
    "# --- Data Processing ---\n",
    "\n",
    "# For our 16k data\n",
    "our_16k_l0s, our_16k_cossim = map(list, zip(*sorted(\n",
    "    (d['l0'], d['cossim'])\n",
    "    for d in our_16k_data.values()\n",
    ")))\n",
    "\n",
    "# For our 65k data\n",
    "our_65k_l0s, our_65k_cossim = map(list, zip(*sorted(\n",
    "    (d['l0'], d['cossim'])\n",
    "    for d in our_65k_data.values()\n",
    ")))\n",
    "\n",
    "# For our 16k 9B data\n",
    "our_16k_9b_l0s, our_16k_9b_cossim = map(list, zip(*sorted(\n",
    "    (d['l0'], d['cossim'])\n",
    "    for d in our_16k_9b_data.values()\n",
    ")))\n",
    "\n",
    "# For our 32k 9B data\n",
    "our_32k_l0s, our_32k_cossim = map(list, zip(*sorted(\n",
    "    (d['l0'], d['cossim'])\n",
    "    for d in our_32k_9b_data.values()\n",
    ")))\n",
    "\n",
    "# For gemma 16k data\n",
    "gemma_16k_l0s, gemma_16k_cossim = map(list, zip(*sorted(\n",
    "    (d['l0'], d['cossim'])\n",
    "    for d in gemma_16k_data.values()\n",
    ")))\n",
    "\n",
    "# For gemma 65k data\n",
    "gemma_65k_l0s, gemma_65k_cossim = map(list, zip(*sorted(\n",
    "    (d['l0'], d['cossim'])\n",
    "    for d in gemma_65k_data.values()\n",
    ")))\n",
    "\n",
    "# For gemma 32k (9B) data\n",
    "gemma_32k_l0s, gemma_32k_cossim = map(list, zip(*sorted(\n",
    "    (d['l0'], d['cossim'])\n",
    "    for d in gemma_32k_9b_data.values()\n",
    ")))\n",
    "\n",
    "\n",
    "# --- Styling Parameters ---\n",
    "\n",
    "BASE_FONT_SIZE = 20\n",
    "BASE_LINE_WIDTH = 5\n",
    "BASE_MARKER_SIZE = 12\n",
    "\n",
    "MODEL_COLORS = {\n",
    "    'ours': '#636EFA', #'#2E5894',  # Deep blue\n",
    "    'gemma': '#EF553B' #'#943D2E'  # Deep red\n",
    "}\n",
    "\n",
    "# --- Create Subplots ---\n",
    "\n",
    "# Left subplot (Gemma-2-2B): our 16k & 65k and gemma 16k & 65k\n",
    "# Right subplot (Gemma-2-9B): our 16k‑9B & 32k‑9B and gemma 16k & 32k\n",
    "fig = make_subplots(\n",
    "    rows=1, cols=2,\n",
    "    subplot_titles=(\"Gemma-2-2B\", \"Gemma-2-9B\"),\n",
    "    horizontal_spacing=0.05,\n",
    ")\n",
    "fig.update_annotations(font_size=BASE_FONT_SIZE * 1.2)\n",
    "\n",
    "# --- Helper Function to Add Traces ---\n",
    "\n",
    "def add_model_trace(x, y, model_type, width, show_in_legend, row=1, col=1):\n",
    "    \"\"\"\n",
    "    Add a trace with consistent styling.\n",
    "    \n",
    "    Parameters:\n",
    "      model_type: 'ours' or 'gemma'\n",
    "      width: '16k', '32k', or '65k' (determines the line dash style)\n",
    "      show_in_legend: Boolean to indicate whether this trace appears in the legend\n",
    "      row, col: Subplot location\n",
    "    \"\"\"\n",
    "    dash_style = 'solid' if width == '16k' else 'dash'\n",
    "    \n",
    "    return fig.add_trace(\n",
    "        go.Scatter(\n",
    "            x=x,\n",
    "            y=y,\n",
    "            mode='lines+markers',\n",
    "            name=f\"{'Our' if model_type=='ours' else 'GemmaScope'} Model\",\n",
    "            marker=dict(\n",
    "                symbol='circle',\n",
    "                size=BASE_MARKER_SIZE,\n",
    "            ),\n",
    "            line=dict(\n",
    "                color=MODEL_COLORS[model_type],\n",
    "                dash=dash_style,\n",
    "                width=BASE_LINE_WIDTH\n",
    "            ),\n",
    "            legendgroup=model_type,\n",
    "            showlegend=show_in_legend\n",
    "        ),\n",
    "        row=row, col=col\n",
    "    )\n",
    "\n",
    "# --- Add Traces to Subplots ---\n",
    "\n",
    "# Left subplot (Gemma-2-2B)\n",
    "add_model_trace(our_16k_l0s, our_16k_cossim, 'ours', '16k', True, row=1, col=1)\n",
    "add_model_trace(our_65k_l0s, our_65k_cossim, 'ours', '65k', False, row=1, col=1)\n",
    "add_model_trace(gemma_16k_l0s, gemma_16k_cossim, 'gemma', '16k', True, row=1, col=1)\n",
    "add_model_trace(gemma_65k_l0s, gemma_65k_cossim, 'gemma', '65k', False, row=1, col=1)\n",
    "\n",
    "# Right subplot (Gemma-2-9B) – set show_in_legend to False to avoid duplicates\n",
    "add_model_trace(our_16k_9b_l0s, our_16k_9b_cossim, 'ours', '16k', False, row=1, col=2)\n",
    "add_model_trace(our_32k_l0s, our_32k_cossim, 'ours', '32k', False, row=1, col=2)\n",
    "add_model_trace(gemma_16k_l0s, gemma_16k_cossim, 'gemma', '16k', False, row=1, col=2)\n",
    "add_model_trace(gemma_32k_l0s, gemma_32k_cossim, 'gemma', '32k', False, row=1, col=2)\n",
    "\n",
    "# --- Add Line-Style Legends as Annotations ---\n",
    "\n",
    "# For Gemma-2-2B (left subplot)\n",
    "fig.add_annotation(\n",
    "    xref=\"x domain\", yref=\"y domain\",\n",
    "    x=0.98, y=0.15,\n",
    "    text=\"16k\",\n",
    "    showarrow=False,\n",
    "    font=dict(size=BASE_FONT_SIZE),\n",
    "    xanchor=\"right\",\n",
    "    yanchor=\"bottom\"\n",
    ")\n",
    "fig.add_shape(\n",
    "    type=\"line\",\n",
    "    xref=\"x domain\", yref=\"y domain\",\n",
    "    x0=0.75, x1=0.95,\n",
    "    y0=0.15, y1=0.15,\n",
    "    line=dict(color=\"black\", width=BASE_LINE_WIDTH)\n",
    ")\n",
    "fig.add_annotation(\n",
    "    xref=\"x domain\", yref=\"y domain\",\n",
    "    x=0.98, y=0.07,\n",
    "    text=\"65k\",\n",
    "    showarrow=False,\n",
    "    font=dict(size=BASE_FONT_SIZE),\n",
    "    xanchor=\"right\",\n",
    "    yanchor=\"bottom\"\n",
    ")\n",
    "fig.add_shape(\n",
    "    type=\"line\",\n",
    "    xref=\"x domain\", yref=\"y domain\",\n",
    "    x0=0.75, x1=0.95,\n",
    "    y0=0.07, y1=0.07,\n",
    "    line=dict(color=\"black\", width=BASE_LINE_WIDTH, dash=\"dash\")\n",
    ")\n",
    "\n",
    "# For Gemma-2-9B (right subplot)\n",
    "fig.add_annotation(\n",
    "    xref=\"x2 domain\", yref=\"y2 domain\",\n",
    "    x=0.98, y=0.15,\n",
    "    text=\"16k\",\n",
    "    showarrow=False,\n",
    "    font=dict(size=BASE_FONT_SIZE),\n",
    "    xanchor=\"right\",\n",
    "    yanchor=\"bottom\"\n",
    ")\n",
    "fig.add_shape(\n",
    "    type=\"line\",\n",
    "    xref=\"x2 domain\", yref=\"y2 domain\",\n",
    "    x0=0.75, x1=0.95,\n",
    "    y0=0.15, y1=0.15,\n",
    "    line=dict(color=\"black\", width=BASE_LINE_WIDTH)\n",
    ")\n",
    "fig.add_annotation(\n",
    "    xref=\"x2 domain\", yref=\"y2 domain\",\n",
    "    x=0.98, y=0.07,\n",
    "    text=\"32k\",\n",
    "    showarrow=False,\n",
    "    font=dict(size=BASE_FONT_SIZE),\n",
    "    xanchor=\"right\",\n",
    "    yanchor=\"bottom\"\n",
    ")\n",
    "fig.add_shape(\n",
    "    type=\"line\",\n",
    "    xref=\"x2 domain\", yref=\"y2 domain\",\n",
    "    x0=0.75, x1=0.95,\n",
    "    y0=0.07, y1=0.07,\n",
    "    line=dict(color=\"black\", width=BASE_LINE_WIDTH, dash=\"dash\")\n",
    ")\n",
    "\n",
    "# --- Update Layout ---\n",
    "\n",
    "fig.update_layout(\n",
    "    width=1200,\n",
    "    height=500,\n",
    "    margin=dict(l=80, r=30, t=50, b=80),\n",
    "    plot_bgcolor='white',\n",
    "    paper_bgcolor='white',\n",
    "    font=dict(\n",
    "        family='Arial',\n",
    "        size=BASE_FONT_SIZE,\n",
    "    ),\n",
    "    legend=dict(\n",
    "        x=0.5,\n",
    "        y=-0.2,\n",
    "        xanchor='center',\n",
    "        yanchor='top',\n",
    "        orientation='h',\n",
    "        itemsizing='constant'\n",
    "    ),\n",
    "    xaxis=dict(\n",
    "        title='L0',\n",
    "        showgrid=True,\n",
    "        gridwidth=1,\n",
    "        gridcolor='lightgray',\n",
    "        zeroline=True,\n",
    "        zerolinewidth=1,\n",
    "        zerolinecolor='lightgray',\n",
    "    ),\n",
    "    yaxis=dict(\n",
    "        title='Cosine Similarity',\n",
    "        showgrid=True,\n",
    "        gridwidth=1,\n",
    "        gridcolor='lightgray',\n",
    "        zeroline=True,\n",
    "        zerolinewidth=1,\n",
    "        zerolinecolor='lightgray',\n",
    "    ),\n",
    "    xaxis2=dict(\n",
    "        title='L0',\n",
    "        showgrid=True,\n",
    "        gridwidth=1,\n",
    "        gridcolor='lightgray',\n",
    "        zeroline=True,\n",
    "        zerolinewidth=1,\n",
    "        zerolinecolor='lightgray',\n",
    "    ),\n",
    "    yaxis2=dict(\n",
    "        showgrid=True,\n",
    "        gridwidth=1,\n",
    "        gridcolor='lightgray',\n",
    "        zeroline=True,\n",
    "        zerolinewidth=1,\n",
    "        zerolinecolor='lightgray',\n",
    "    )\n",
    ")\n",
    "\n",
    "# Set consistent y-axis ranges across subplots\n",
    "y_min = min(\n",
    "    min(our_16k_cossim),\n",
    "    min(our_65k_cossim),\n",
    "    min(our_16k_9b_cossim),\n",
    "    min(our_32k_cossim),\n",
    "    min(gemma_16k_cossim),\n",
    "    min(gemma_65k_cossim),\n",
    "    min(gemma_32k_cossim)\n",
    ")\n",
    "y_max = max(\n",
    "    max(our_16k_cossim),\n",
    "    max(our_65k_cossim),\n",
    "    max(our_16k_9b_cossim),\n",
    "    max(our_32k_cossim),\n",
    "    max(gemma_16k_cossim),\n",
    "    max(gemma_65k_cossim),\n",
    "    max(gemma_32k_cossim)\n",
    ")\n",
    "padding = (y_max - y_min) * 0.05\n",
    "fig.update_yaxes(range=[y_min - padding, y_max + padding])\n",
    "\n",
    "# Save the figure as a PDF and display it\n",
    "fig.write_image(\"results/figures/cossim.pdf\")\n",
    "fig.show()\n"
   ]
  },
  {
   "cell_type": "markdown",
   "metadata": {},
   "source": [
    "## Relative Reconstruction Bias"
   ]
  },
  {
   "cell_type": "code",
   "execution_count": 9,
   "metadata": {},
   "outputs": [
    {
     "data": {
      "application/vnd.plotly.v1+json": {
       "config": {
        "plotlyServerURL": "https://plot.ly"
       },
       "data": [
        {
         "legendgroup": "ours",
         "line": {
          "color": "#636EFA",
          "dash": "solid",
          "width": 5
         },
         "marker": {
          "size": 12,
          "symbol": "circle"
         },
         "mode": "lines+markers",
         "name": "Our SAE",
         "showlegend": true,
         "type": "scatter",
         "x": [
          18.7971337890625,
          34.8091943359375,
          58.2791796875,
          122.336005859375,
          222.349736328125,
          360.7735693359375
         ],
         "xaxis": "x",
         "y": [
          1.011328125,
          1.0146484375,
          0.99849609375,
          1.0313671875,
          1.0215234375,
          1.0098046875
         ],
         "yaxis": "y"
        },
        {
         "legendgroup": "gemma",
         "line": {
          "color": "#EF553B",
          "dash": "solid",
          "width": 5
         },
         "marker": {
          "size": 12,
          "symbol": "circle"
         },
         "mode": "lines+markers",
         "name": "GemmaScope SAE",
         "showlegend": true,
         "type": "scatter",
         "x": [
          22.6335298538208,
          40.16366771697998,
          76.59480045318604,
          152.31977714538573,
          313.53044342041017
         ],
         "xaxis": "x",
         "y": [
          0.9981640625,
          0.9982421875,
          1.0070703125,
          1.006328125,
          0.99908203125
         ],
         "yaxis": "y"
        },
        {
         "legendgroup": "ours",
         "line": {
          "color": "#636EFA",
          "dash": "dash",
          "width": 5
         },
         "marker": {
          "size": 12,
          "symbol": "circle"
         },
         "mode": "lines+markers",
         "name": "Our SAE",
         "showlegend": false,
         "type": "scatter",
         "x": [
          17.1726953125,
          27.5861767578125,
          43.5634375,
          73.004189453125,
          134.1006201171875,
          272.9419873046875
         ],
         "xaxis": "x",
         "y": [
          1.00484375,
          1.007578125,
          1.0071875,
          1.007109375,
          0.99421875,
          0.99828125
         ],
         "yaxis": "y"
        },
        {
         "legendgroup": "gemma",
         "line": {
          "color": "#EF553B",
          "dash": "dash",
          "width": 5
         },
         "marker": {
          "size": 12,
          "symbol": "circle"
         },
         "mode": "lines+markers",
         "name": "GemmaScope SAE",
         "showlegend": false,
         "type": "scatter",
         "x": [
          21.512322492599488,
          36.373988513946536,
          64.05273630142212,
          119.38513919830322,
          241.35627159118653
         ],
         "xaxis": "x",
         "y": [
          1.00970703125,
          1.0003125,
          0.99853515625,
          0.99830078125,
          1.00625
         ],
         "yaxis": "y"
        },
        {
         "legendgroup": "ours",
         "line": {
          "color": "#636EFA",
          "dash": "solid",
          "width": 5
         },
         "marker": {
          "size": 12,
          "symbol": "circle"
         },
         "mode": "lines+markers",
         "name": "Our SAE",
         "showlegend": false,
         "type": "scatter",
         "x": [
          17.14177734375,
          31.78025390625,
          57.6209033203125,
          118.3580810546875,
          224.380615234375,
          440.3301123046875
         ],
         "xaxis": "x2",
         "y": [
          1.0052734375,
          1.0021484375,
          0.99640625,
          1.01015625,
          1.0008203125,
          0.99525390625
         ],
         "yaxis": "y2"
        },
        {
         "legendgroup": "ours",
         "line": {
          "color": "#636EFA",
          "dash": "dash",
          "width": 5
         },
         "marker": {
          "size": 12,
          "symbol": "circle"
         },
         "mode": "lines+markers",
         "name": "Our SAE",
         "showlegend": false,
         "type": "scatter",
         "x": [
          16.8319873046875,
          27.5696240234375,
          56.870859375,
          98.8058642578125,
          215.4338427734375,
          398.029189453125
         ],
         "xaxis": "x2",
         "y": [
          1.0051171875,
          1.00341796875,
          1.00236328125,
          0.99666015625,
          1.00703125,
          1.0158203125
         ],
         "yaxis": "y2"
        },
        {
         "legendgroup": "gemma",
         "line": {
          "color": "#EF553B",
          "dash": "solid",
          "width": 5
         },
         "marker": {
          "size": 12,
          "symbol": "circle"
         },
         "mode": "lines+markers",
         "name": "GemmaScope SAE",
         "showlegend": false,
         "type": "scatter",
         "x": [
          11.156475143432617,
          19.662725944519043,
          36.351931190490724,
          58.529964199066164,
          68.60614864349365,
          145.12886955261231,
          349.6590867614746,
          470.62955078125
         ],
         "xaxis": "x2",
         "y": [
          1.0109765625,
          1.00279296875,
          1.0071484375,
          1.00337890625,
          1.00283203125,
          1.0023828125,
          1.002734375,
          1.0040234375
         ],
         "yaxis": "y2"
        },
        {
         "legendgroup": "gemma",
         "line": {
          "color": "#EF553B",
          "dash": "dash",
          "width": 5
         },
         "marker": {
          "size": 12,
          "symbol": "circle"
         },
         "mode": "lines+markers",
         "name": "GemmaScope SAE",
         "showlegend": false,
         "type": "scatter",
         "x": [
          10.93445186138153,
          56.81004552841186,
          373.9029344177246
         ],
         "xaxis": "x2",
         "y": [
          1.005078125,
          1.005,
          0.997265625
         ],
         "yaxis": "y2"
        }
       ],
       "layout": {
        "annotations": [
         {
          "font": {
           "size": 24
          },
          "showarrow": false,
          "text": "Gemma-2-2B",
          "x": 0.2375,
          "xanchor": "center",
          "xref": "paper",
          "y": 1,
          "yanchor": "bottom",
          "yref": "paper"
         },
         {
          "font": {
           "size": 24
          },
          "showarrow": false,
          "text": "Gemma-2-9B",
          "x": 0.7625,
          "xanchor": "center",
          "xref": "paper",
          "y": 1,
          "yanchor": "bottom",
          "yref": "paper"
         },
         {
          "font": {
           "size": 20
          },
          "showarrow": false,
          "text": "16k",
          "x": 0.98,
          "xanchor": "right",
          "xref": "x domain",
          "y": 0.85,
          "yanchor": "top",
          "yref": "y domain"
         },
         {
          "font": {
           "size": 20
          },
          "showarrow": false,
          "text": "65k",
          "x": 0.98,
          "xanchor": "right",
          "xref": "x domain",
          "y": 0.75,
          "yanchor": "top",
          "yref": "y domain"
         },
         {
          "font": {
           "size": 20
          },
          "showarrow": false,
          "text": "16k",
          "x": 0.98,
          "xanchor": "right",
          "xref": "x2 domain",
          "y": 0.85,
          "yanchor": "top",
          "yref": "y2 domain"
         },
         {
          "font": {
           "size": 20
          },
          "showarrow": false,
          "text": "32k",
          "x": 0.98,
          "xanchor": "right",
          "xref": "x2 domain",
          "y": 0.75,
          "yanchor": "top",
          "yref": "y2 domain"
         }
        ],
        "font": {
         "family": "Arial",
         "size": 20
        },
        "height": 500,
        "legend": {
         "itemsizing": "constant",
         "orientation": "h",
         "x": 0.5,
         "xanchor": "center",
         "y": -0.2,
         "yanchor": "top"
        },
        "margin": {
         "b": 80,
         "l": 80,
         "r": 30,
         "t": 50
        },
        "paper_bgcolor": "white",
        "plot_bgcolor": "white",
        "shapes": [
         {
          "line": {
           "color": "black",
           "width": 5
          },
          "type": "line",
          "x0": 0.75,
          "x1": 0.95,
          "xref": "x domain",
          "y0": 0.85,
          "y1": 0.85,
          "yref": "y domain"
         },
         {
          "line": {
           "color": "black",
           "dash": "dash",
           "width": 5
          },
          "type": "line",
          "x0": 0.75,
          "x1": 0.95,
          "xref": "x domain",
          "y0": 0.75,
          "y1": 0.75,
          "yref": "y domain"
         },
         {
          "line": {
           "color": "black",
           "width": 5
          },
          "type": "line",
          "x0": 0.75,
          "x1": 0.95,
          "xref": "x2 domain",
          "y0": 0.85,
          "y1": 0.85,
          "yref": "y2 domain"
         },
         {
          "line": {
           "color": "black",
           "dash": "dash",
           "width": 5
          },
          "type": "line",
          "x0": 0.75,
          "x1": 0.95,
          "xref": "x2 domain",
          "y0": 0.75,
          "y1": 0.75,
          "yref": "y2 domain"
         }
        ],
        "template": {
         "data": {
          "bar": [
           {
            "error_x": {
             "color": "#2a3f5f"
            },
            "error_y": {
             "color": "#2a3f5f"
            },
            "marker": {
             "line": {
              "color": "#E5ECF6",
              "width": 0.5
             },
             "pattern": {
              "fillmode": "overlay",
              "size": 10,
              "solidity": 0.2
             }
            },
            "type": "bar"
           }
          ],
          "barpolar": [
           {
            "marker": {
             "line": {
              "color": "#E5ECF6",
              "width": 0.5
             },
             "pattern": {
              "fillmode": "overlay",
              "size": 10,
              "solidity": 0.2
             }
            },
            "type": "barpolar"
           }
          ],
          "carpet": [
           {
            "aaxis": {
             "endlinecolor": "#2a3f5f",
             "gridcolor": "white",
             "linecolor": "white",
             "minorgridcolor": "white",
             "startlinecolor": "#2a3f5f"
            },
            "baxis": {
             "endlinecolor": "#2a3f5f",
             "gridcolor": "white",
             "linecolor": "white",
             "minorgridcolor": "white",
             "startlinecolor": "#2a3f5f"
            },
            "type": "carpet"
           }
          ],
          "choropleth": [
           {
            "colorbar": {
             "outlinewidth": 0,
             "ticks": ""
            },
            "type": "choropleth"
           }
          ],
          "contour": [
           {
            "colorbar": {
             "outlinewidth": 0,
             "ticks": ""
            },
            "colorscale": [
             [
              0,
              "#0d0887"
             ],
             [
              0.1111111111111111,
              "#46039f"
             ],
             [
              0.2222222222222222,
              "#7201a8"
             ],
             [
              0.3333333333333333,
              "#9c179e"
             ],
             [
              0.4444444444444444,
              "#bd3786"
             ],
             [
              0.5555555555555556,
              "#d8576b"
             ],
             [
              0.6666666666666666,
              "#ed7953"
             ],
             [
              0.7777777777777778,
              "#fb9f3a"
             ],
             [
              0.8888888888888888,
              "#fdca26"
             ],
             [
              1,
              "#f0f921"
             ]
            ],
            "type": "contour"
           }
          ],
          "contourcarpet": [
           {
            "colorbar": {
             "outlinewidth": 0,
             "ticks": ""
            },
            "type": "contourcarpet"
           }
          ],
          "heatmap": [
           {
            "colorbar": {
             "outlinewidth": 0,
             "ticks": ""
            },
            "colorscale": [
             [
              0,
              "#0d0887"
             ],
             [
              0.1111111111111111,
              "#46039f"
             ],
             [
              0.2222222222222222,
              "#7201a8"
             ],
             [
              0.3333333333333333,
              "#9c179e"
             ],
             [
              0.4444444444444444,
              "#bd3786"
             ],
             [
              0.5555555555555556,
              "#d8576b"
             ],
             [
              0.6666666666666666,
              "#ed7953"
             ],
             [
              0.7777777777777778,
              "#fb9f3a"
             ],
             [
              0.8888888888888888,
              "#fdca26"
             ],
             [
              1,
              "#f0f921"
             ]
            ],
            "type": "heatmap"
           }
          ],
          "histogram": [
           {
            "marker": {
             "pattern": {
              "fillmode": "overlay",
              "size": 10,
              "solidity": 0.2
             }
            },
            "type": "histogram"
           }
          ],
          "histogram2d": [
           {
            "colorbar": {
             "outlinewidth": 0,
             "ticks": ""
            },
            "colorscale": [
             [
              0,
              "#0d0887"
             ],
             [
              0.1111111111111111,
              "#46039f"
             ],
             [
              0.2222222222222222,
              "#7201a8"
             ],
             [
              0.3333333333333333,
              "#9c179e"
             ],
             [
              0.4444444444444444,
              "#bd3786"
             ],
             [
              0.5555555555555556,
              "#d8576b"
             ],
             [
              0.6666666666666666,
              "#ed7953"
             ],
             [
              0.7777777777777778,
              "#fb9f3a"
             ],
             [
              0.8888888888888888,
              "#fdca26"
             ],
             [
              1,
              "#f0f921"
             ]
            ],
            "type": "histogram2d"
           }
          ],
          "histogram2dcontour": [
           {
            "colorbar": {
             "outlinewidth": 0,
             "ticks": ""
            },
            "colorscale": [
             [
              0,
              "#0d0887"
             ],
             [
              0.1111111111111111,
              "#46039f"
             ],
             [
              0.2222222222222222,
              "#7201a8"
             ],
             [
              0.3333333333333333,
              "#9c179e"
             ],
             [
              0.4444444444444444,
              "#bd3786"
             ],
             [
              0.5555555555555556,
              "#d8576b"
             ],
             [
              0.6666666666666666,
              "#ed7953"
             ],
             [
              0.7777777777777778,
              "#fb9f3a"
             ],
             [
              0.8888888888888888,
              "#fdca26"
             ],
             [
              1,
              "#f0f921"
             ]
            ],
            "type": "histogram2dcontour"
           }
          ],
          "mesh3d": [
           {
            "colorbar": {
             "outlinewidth": 0,
             "ticks": ""
            },
            "type": "mesh3d"
           }
          ],
          "parcoords": [
           {
            "line": {
             "colorbar": {
              "outlinewidth": 0,
              "ticks": ""
             }
            },
            "type": "parcoords"
           }
          ],
          "pie": [
           {
            "automargin": true,
            "type": "pie"
           }
          ],
          "scatter": [
           {
            "fillpattern": {
             "fillmode": "overlay",
             "size": 10,
             "solidity": 0.2
            },
            "type": "scatter"
           }
          ],
          "scatter3d": [
           {
            "line": {
             "colorbar": {
              "outlinewidth": 0,
              "ticks": ""
             }
            },
            "marker": {
             "colorbar": {
              "outlinewidth": 0,
              "ticks": ""
             }
            },
            "type": "scatter3d"
           }
          ],
          "scattercarpet": [
           {
            "marker": {
             "colorbar": {
              "outlinewidth": 0,
              "ticks": ""
             }
            },
            "type": "scattercarpet"
           }
          ],
          "scattergeo": [
           {
            "marker": {
             "colorbar": {
              "outlinewidth": 0,
              "ticks": ""
             }
            },
            "type": "scattergeo"
           }
          ],
          "scattergl": [
           {
            "marker": {
             "colorbar": {
              "outlinewidth": 0,
              "ticks": ""
             }
            },
            "type": "scattergl"
           }
          ],
          "scattermap": [
           {
            "marker": {
             "colorbar": {
              "outlinewidth": 0,
              "ticks": ""
             }
            },
            "type": "scattermap"
           }
          ],
          "scattermapbox": [
           {
            "marker": {
             "colorbar": {
              "outlinewidth": 0,
              "ticks": ""
             }
            },
            "type": "scattermapbox"
           }
          ],
          "scatterpolar": [
           {
            "marker": {
             "colorbar": {
              "outlinewidth": 0,
              "ticks": ""
             }
            },
            "type": "scatterpolar"
           }
          ],
          "scatterpolargl": [
           {
            "marker": {
             "colorbar": {
              "outlinewidth": 0,
              "ticks": ""
             }
            },
            "type": "scatterpolargl"
           }
          ],
          "scatterternary": [
           {
            "marker": {
             "colorbar": {
              "outlinewidth": 0,
              "ticks": ""
             }
            },
            "type": "scatterternary"
           }
          ],
          "surface": [
           {
            "colorbar": {
             "outlinewidth": 0,
             "ticks": ""
            },
            "colorscale": [
             [
              0,
              "#0d0887"
             ],
             [
              0.1111111111111111,
              "#46039f"
             ],
             [
              0.2222222222222222,
              "#7201a8"
             ],
             [
              0.3333333333333333,
              "#9c179e"
             ],
             [
              0.4444444444444444,
              "#bd3786"
             ],
             [
              0.5555555555555556,
              "#d8576b"
             ],
             [
              0.6666666666666666,
              "#ed7953"
             ],
             [
              0.7777777777777778,
              "#fb9f3a"
             ],
             [
              0.8888888888888888,
              "#fdca26"
             ],
             [
              1,
              "#f0f921"
             ]
            ],
            "type": "surface"
           }
          ],
          "table": [
           {
            "cells": {
             "fill": {
              "color": "#EBF0F8"
             },
             "line": {
              "color": "white"
             }
            },
            "header": {
             "fill": {
              "color": "#C8D4E3"
             },
             "line": {
              "color": "white"
             }
            },
            "type": "table"
           }
          ]
         },
         "layout": {
          "annotationdefaults": {
           "arrowcolor": "#2a3f5f",
           "arrowhead": 0,
           "arrowwidth": 1
          },
          "autotypenumbers": "strict",
          "coloraxis": {
           "colorbar": {
            "outlinewidth": 0,
            "ticks": ""
           }
          },
          "colorscale": {
           "diverging": [
            [
             0,
             "#8e0152"
            ],
            [
             0.1,
             "#c51b7d"
            ],
            [
             0.2,
             "#de77ae"
            ],
            [
             0.3,
             "#f1b6da"
            ],
            [
             0.4,
             "#fde0ef"
            ],
            [
             0.5,
             "#f7f7f7"
            ],
            [
             0.6,
             "#e6f5d0"
            ],
            [
             0.7,
             "#b8e186"
            ],
            [
             0.8,
             "#7fbc41"
            ],
            [
             0.9,
             "#4d9221"
            ],
            [
             1,
             "#276419"
            ]
           ],
           "sequential": [
            [
             0,
             "#0d0887"
            ],
            [
             0.1111111111111111,
             "#46039f"
            ],
            [
             0.2222222222222222,
             "#7201a8"
            ],
            [
             0.3333333333333333,
             "#9c179e"
            ],
            [
             0.4444444444444444,
             "#bd3786"
            ],
            [
             0.5555555555555556,
             "#d8576b"
            ],
            [
             0.6666666666666666,
             "#ed7953"
            ],
            [
             0.7777777777777778,
             "#fb9f3a"
            ],
            [
             0.8888888888888888,
             "#fdca26"
            ],
            [
             1,
             "#f0f921"
            ]
           ],
           "sequentialminus": [
            [
             0,
             "#0d0887"
            ],
            [
             0.1111111111111111,
             "#46039f"
            ],
            [
             0.2222222222222222,
             "#7201a8"
            ],
            [
             0.3333333333333333,
             "#9c179e"
            ],
            [
             0.4444444444444444,
             "#bd3786"
            ],
            [
             0.5555555555555556,
             "#d8576b"
            ],
            [
             0.6666666666666666,
             "#ed7953"
            ],
            [
             0.7777777777777778,
             "#fb9f3a"
            ],
            [
             0.8888888888888888,
             "#fdca26"
            ],
            [
             1,
             "#f0f921"
            ]
           ]
          },
          "colorway": [
           "#636efa",
           "#EF553B",
           "#00cc96",
           "#ab63fa",
           "#FFA15A",
           "#19d3f3",
           "#FF6692",
           "#B6E880",
           "#FF97FF",
           "#FECB52"
          ],
          "font": {
           "color": "#2a3f5f"
          },
          "geo": {
           "bgcolor": "white",
           "lakecolor": "white",
           "landcolor": "#E5ECF6",
           "showlakes": true,
           "showland": true,
           "subunitcolor": "white"
          },
          "hoverlabel": {
           "align": "left"
          },
          "hovermode": "closest",
          "mapbox": {
           "style": "light"
          },
          "paper_bgcolor": "white",
          "plot_bgcolor": "#E5ECF6",
          "polar": {
           "angularaxis": {
            "gridcolor": "white",
            "linecolor": "white",
            "ticks": ""
           },
           "bgcolor": "#E5ECF6",
           "radialaxis": {
            "gridcolor": "white",
            "linecolor": "white",
            "ticks": ""
           }
          },
          "scene": {
           "xaxis": {
            "backgroundcolor": "#E5ECF6",
            "gridcolor": "white",
            "gridwidth": 2,
            "linecolor": "white",
            "showbackground": true,
            "ticks": "",
            "zerolinecolor": "white"
           },
           "yaxis": {
            "backgroundcolor": "#E5ECF6",
            "gridcolor": "white",
            "gridwidth": 2,
            "linecolor": "white",
            "showbackground": true,
            "ticks": "",
            "zerolinecolor": "white"
           },
           "zaxis": {
            "backgroundcolor": "#E5ECF6",
            "gridcolor": "white",
            "gridwidth": 2,
            "linecolor": "white",
            "showbackground": true,
            "ticks": "",
            "zerolinecolor": "white"
           }
          },
          "shapedefaults": {
           "line": {
            "color": "#2a3f5f"
           }
          },
          "ternary": {
           "aaxis": {
            "gridcolor": "white",
            "linecolor": "white",
            "ticks": ""
           },
           "baxis": {
            "gridcolor": "white",
            "linecolor": "white",
            "ticks": ""
           },
           "bgcolor": "#E5ECF6",
           "caxis": {
            "gridcolor": "white",
            "linecolor": "white",
            "ticks": ""
           }
          },
          "title": {
           "x": 0.05
          },
          "xaxis": {
           "automargin": true,
           "gridcolor": "white",
           "linecolor": "white",
           "ticks": "",
           "title": {
            "standoff": 15
           },
           "zerolinecolor": "white",
           "zerolinewidth": 2
          },
          "yaxis": {
           "automargin": true,
           "gridcolor": "white",
           "linecolor": "white",
           "ticks": "",
           "title": {
            "standoff": 15
           },
           "zerolinecolor": "white",
           "zerolinewidth": 2
          }
         }
        },
        "width": 1200,
        "xaxis": {
         "anchor": "y",
         "domain": [
          0,
          0.475
         ],
         "gridcolor": "lightgray",
         "gridwidth": 1,
         "showgrid": true,
         "title": {
          "text": "L0"
         },
         "zeroline": true,
         "zerolinecolor": "lightgray",
         "zerolinewidth": 1
        },
        "xaxis2": {
         "anchor": "y2",
         "domain": [
          0.525,
          1
         ],
         "gridcolor": "lightgray",
         "gridwidth": 1,
         "showgrid": true,
         "title": {
          "text": "L0"
         },
         "zeroline": true,
         "zerolinecolor": "lightgray",
         "zerolinewidth": 1
        },
        "yaxis": {
         "anchor": "x",
         "domain": [
          0,
          1
         ],
         "gridcolor": "lightgray",
         "gridwidth": 1,
         "range": [
          0.992361328125,
          1.033224609375
         ],
         "showgrid": true,
         "title": {
          "text": "Relative Reconstruction Bias"
         },
         "zeroline": true,
         "zerolinecolor": "lightgray",
         "zerolinewidth": 1
        },
        "yaxis2": {
         "anchor": "x2",
         "domain": [
          0,
          1
         ],
         "gridcolor": "lightgray",
         "gridwidth": 1,
         "range": [
          0.992361328125,
          1.033224609375
         ],
         "showgrid": true,
         "zeroline": true,
         "zerolinecolor": "lightgray",
         "zerolinewidth": 1
        }
       }
      }
     },
     "metadata": {},
     "output_type": "display_data"
    }
   ],
   "source": [
    "import plotly.graph_objects as go\n",
    "from plotly.subplots import make_subplots\n",
    "\n",
    "# === Data processing: compute relative reconstruction bias ===\n",
    "\n",
    "# For our 16k data\n",
    "our_16k_l0s, our_rel_recon_bias = map(list, zip(*sorted(\n",
    "    (d['l0'], d['relative_reconstruction_bias'])\n",
    "    for d in our_16k_data.values()\n",
    ")))\n",
    "\n",
    "# For gemma 16k data\n",
    "gemma_16k_l0s, gemma_rel_recon_bias = map(list, zip(*sorted(\n",
    "    (d['l0'], d['relative_reconstruction_bias'])\n",
    "    for d in gemma_16k_data.values()\n",
    ")))\n",
    "\n",
    "# For our 65k data\n",
    "our_65k_l0s, our_65k_rel_recon_bias = map(list, zip(*sorted(\n",
    "    (d['l0'], d['relative_reconstruction_bias'])\n",
    "    for d in our_65k_data.values()\n",
    ")))\n",
    "\n",
    "# For gemma 65k data\n",
    "gemma_65k_l0s, gemma_65k_rel_recon_bias = map(list, zip(*sorted(\n",
    "    (d['l0'], d['relative_reconstruction_bias'])\n",
    "    for d in gemma_65k_data.values()\n",
    ")))\n",
    "\n",
    "# For our 16k 9b data\n",
    "our_16k_l0s_9b, our_rel_recon_bias_16k_9b = map(list, zip(*sorted(\n",
    "    (d['l0'], d['relative_reconstruction_bias'])\n",
    "    for d in our_16k_9b_data.values()\n",
    ")))\n",
    "\n",
    "# For our 32k 9b data\n",
    "our_32k_l0s_9b, our_32k_rel_recon_bias_9b = map(list, zip(*sorted(\n",
    "    (d['l0'], d['relative_reconstruction_bias'])\n",
    "    for d in our_32k_9b_data.values()\n",
    ")))\n",
    "\n",
    "# For gemma 16k 9b data\n",
    "gemma_16k_l0s_9b, gemma_rel_recon_bias_16k_9b = map(list, zip(*sorted(\n",
    "    (d['l0'], d['relative_reconstruction_bias'])\n",
    "    for d in gemma_16k_9b_data.values()\n",
    ")))\n",
    "\n",
    "# For gemma 32k 9b data\n",
    "gemma_32k_l0s_9b, gemma_32k_rel_recon_bias_9b = map(list, zip(*sorted(\n",
    "    (d['l0'], d['relative_reconstruction_bias'])\n",
    "    for d in gemma_32k_9b_data.values()\n",
    ")))\n",
    "\n",
    "\n",
    "# === Styling parameters ===\n",
    "\n",
    "BASE_FONT_SIZE = 20\n",
    "BASE_LINE_WIDTH = 5\n",
    "BASE_MARKER_SIZE = 12\n",
    "\n",
    "MODEL_COLORS = {\n",
    "    'ours': '#636EFA', #'#2E5894',  # Deep blue\n",
    "    'gemma': '#EF553B' #'#943D2E'  # Deep red\n",
    "}\n",
    "\n",
    "\n",
    "# === Create subplot figure ===\n",
    "\n",
    "# Left subplot: models from 16k (solid) and 65k (dash)\n",
    "# Right subplot: models from 16k (solid) and 32k (dash)\n",
    "fig = make_subplots(\n",
    "    rows=1, cols=2,\n",
    "    subplot_titles=(\"Gemma-2-2B\", \"Gemma-2-9B\"),\n",
    "    horizontal_spacing=0.05,\n",
    ")\n",
    "fig.update_annotations(font_size=BASE_FONT_SIZE * 1.2)\n",
    "\n",
    "\n",
    "# === Helper function to add traces with consistent styling ===\n",
    "\n",
    "def add_model_trace(x, y, model_type, width, show_in_legend, row=1, col=1):\n",
    "    \"\"\"\n",
    "    Add a trace with consistent styling based on:\n",
    "      - model_type: 'ours' or 'gemma'\n",
    "      - width: '16k', '32k', or '65k' (determines dash style)\n",
    "      - show_in_legend: whether the trace should be labeled in the legend\n",
    "    \"\"\"\n",
    "    dash_style = 'solid' if width == '16k' else 'dash'\n",
    "    return fig.add_trace(\n",
    "        go.Scatter(\n",
    "            x=x,\n",
    "            y=y,\n",
    "            mode='lines+markers',\n",
    "            name=f\"{'Our' if model_type == 'ours' else 'GemmaScope'} SAE\",\n",
    "            marker=dict(symbol='circle', size=BASE_MARKER_SIZE),\n",
    "            line=dict(color=MODEL_COLORS[model_type], dash=dash_style, width=BASE_LINE_WIDTH),\n",
    "            legendgroup=model_type,\n",
    "            showlegend=show_in_legend\n",
    "        ),\n",
    "        row=row, col=col\n",
    "    )\n",
    "\n",
    "\n",
    "# === Add traces to the first subplot (Gemma-2-2B: 16k and 65k) ===\n",
    "\n",
    "add_model_trace(our_16k_l0s, our_rel_recon_bias, 'ours', '16k', True, 1, 1)\n",
    "add_model_trace(gemma_16k_l0s, gemma_rel_recon_bias, 'gemma', '16k', True, 1, 1)\n",
    "add_model_trace(our_65k_l0s, our_65k_rel_recon_bias, 'ours', '65k', False, 1, 1)\n",
    "add_model_trace(gemma_65k_l0s, gemma_65k_rel_recon_bias, 'gemma', '65k', False, 1, 1)\n",
    "\n",
    "\n",
    "# === Add traces to the second subplot (Gemma-2-9B: 16k and 32k) ===\n",
    "\n",
    "add_model_trace(our_16k_l0s_9b, our_rel_recon_bias_16k_9b, 'ours', '16k', False, 1, 2)\n",
    "add_model_trace(our_32k_l0s_9b, our_32k_rel_recon_bias_9b, 'ours', '32k', False, 1, 2)\n",
    "add_model_trace(gemma_16k_l0s_9b, gemma_rel_recon_bias_16k_9b, 'gemma', '16k', False, 1, 2)\n",
    "add_model_trace(gemma_32k_l0s_9b, gemma_32k_rel_recon_bias_9b, 'gemma', '32k', False, 1, 2)\n",
    "\n",
    "\n",
    "# === Add line style legend annotations in the UPPER right-hand corner ===\n",
    "\n",
    "# For Gemma-2-2B subplot: Solid = 16k, Dashed = 65k\n",
    "fig.add_annotation(\n",
    "    xref=\"x domain\", yref=\"y domain\",\n",
    "    x=0.98, y=0.85,  # Moved to upper right\n",
    "    text=\"16k\",\n",
    "    showarrow=False,\n",
    "    font=dict(size=BASE_FONT_SIZE),\n",
    "    xanchor=\"right\", yanchor=\"top\"\n",
    ")\n",
    "fig.add_shape(\n",
    "    type=\"line\", xref=\"x domain\", yref=\"y domain\",\n",
    "    x0=0.75, x1=0.95, y0=0.85, y1=0.85,\n",
    "    line=dict(color=\"black\", width=BASE_LINE_WIDTH)\n",
    ")\n",
    "fig.add_annotation(\n",
    "    xref=\"x domain\", yref=\"y domain\",\n",
    "    x=0.98, y=0.75,  # Adjusted position for second legend entry\n",
    "    text=\"65k\",\n",
    "    showarrow=False,\n",
    "    font=dict(size=BASE_FONT_SIZE),\n",
    "    xanchor=\"right\", yanchor=\"top\"\n",
    ")\n",
    "fig.add_shape(\n",
    "    type=\"line\", xref=\"x domain\", yref=\"y domain\",\n",
    "    x0=0.75, x1=0.95, y0=0.75, y1=0.75,\n",
    "    line=dict(color=\"black\", width=BASE_LINE_WIDTH, dash=\"dash\")\n",
    ")\n",
    "\n",
    "# For Gemma-2-9B subplot: Solid = 16k, Dashed = 32k\n",
    "fig.add_annotation(\n",
    "    xref=\"x2 domain\", yref=\"y2 domain\",\n",
    "    x=0.98, y=0.85,\n",
    "    text=\"16k\",\n",
    "    showarrow=False,\n",
    "    font=dict(size=BASE_FONT_SIZE),\n",
    "    xanchor=\"right\", yanchor=\"top\"\n",
    ")\n",
    "fig.add_shape(\n",
    "    type=\"line\", xref=\"x2 domain\", yref=\"y2 domain\",\n",
    "    x0=0.75, x1=0.95, y0=0.85, y1=0.85,\n",
    "    line=dict(color=\"black\", width=BASE_LINE_WIDTH)\n",
    ")\n",
    "fig.add_annotation(\n",
    "    xref=\"x2 domain\", yref=\"y2 domain\",\n",
    "    x=0.98, y=0.75,\n",
    "    text=\"32k\",\n",
    "    showarrow=False,\n",
    "    font=dict(size=BASE_FONT_SIZE),\n",
    "    xanchor=\"right\", yanchor=\"top\"\n",
    ")\n",
    "fig.add_shape(\n",
    "    type=\"line\", xref=\"x2 domain\", yref=\"y2 domain\",\n",
    "    x0=0.75, x1=0.95, y0=0.75, y1=0.75,\n",
    "    line=dict(color=\"black\", width=BASE_LINE_WIDTH, dash=\"dash\")\n",
    ")\n",
    "\n",
    "\n",
    "# === Update layout ===\n",
    "\n",
    "fig.update_layout(\n",
    "    width=1200,\n",
    "    height=500,\n",
    "    margin=dict(l=80, r=30, t=50, b=80),\n",
    "    plot_bgcolor='white',\n",
    "    paper_bgcolor='white',\n",
    "    font=dict(family='Arial', size=BASE_FONT_SIZE),\n",
    "    legend=dict(\n",
    "        x=0.5, y=-0.2, xanchor='center', yanchor='top',\n",
    "        orientation='h', itemsizing='constant'\n",
    "    ),\n",
    "    xaxis=dict(\n",
    "        title='L0',\n",
    "        showgrid=True, gridwidth=1, gridcolor='lightgray',\n",
    "        zeroline=True, zerolinewidth=1, zerolinecolor='lightgray'\n",
    "    ),\n",
    "    yaxis=dict(\n",
    "        title='Relative Reconstruction Bias',\n",
    "        showgrid=True, gridwidth=1, gridcolor='lightgray',\n",
    "        zeroline=True, zerolinewidth=1, zerolinecolor='lightgray'\n",
    "    ),\n",
    "    xaxis2=dict(\n",
    "        title='L0',\n",
    "        showgrid=True, gridwidth=1, gridcolor='lightgray',\n",
    "        zeroline=True, zerolinewidth=1, zerolinecolor='lightgray'\n",
    "    ),\n",
    "    yaxis2=dict(\n",
    "        showgrid=True, gridwidth=1, gridcolor='lightgray',\n",
    "        zeroline=True, zerolinewidth=1, zerolinecolor='lightgray'\n",
    "    )\n",
    ")\n",
    "\n",
    "# Optionally, ensure both subplots use the same y-axis range:\n",
    "y_min = min(\n",
    "    min(our_rel_recon_bias),\n",
    "    min(gemma_rel_recon_bias),\n",
    "    min(our_65k_rel_recon_bias),\n",
    "    min(gemma_65k_rel_recon_bias),\n",
    "    min(our_rel_recon_bias_16k_9b),\n",
    "    min(our_32k_rel_recon_bias_9b),\n",
    "    min(gemma_rel_recon_bias_16k_9b),\n",
    "    min(gemma_32k_rel_recon_bias_9b)\n",
    ")\n",
    "y_max = max(\n",
    "    max(our_rel_recon_bias),\n",
    "    max(gemma_rel_recon_bias),\n",
    "    max(our_65k_rel_recon_bias),\n",
    "    max(gemma_65k_rel_recon_bias),\n",
    "    max(our_rel_recon_bias_16k_9b),\n",
    "    max(our_32k_rel_recon_bias_9b),\n",
    "    max(gemma_rel_recon_bias_16k_9b),\n",
    "    max(gemma_32k_rel_recon_bias_9b)\n",
    ")\n",
    "padding = (y_max - y_min) * 0.05\n",
    "fig.update_yaxes(range=[y_min - padding, y_max + padding])\n",
    "\n",
    "# Save the figure as PDF and display\n",
    "fig.write_image(\"results/figures/relative_reconstruction_bias.pdf\")\n",
    "fig.show()\n"
   ]
  },
  {
   "cell_type": "markdown",
   "metadata": {},
   "source": [
    "## Dark Matter"
   ]
  },
  {
   "cell_type": "code",
   "execution_count": 12,
   "metadata": {},
   "outputs": [
    {
     "data": {
      "image/png": "[encoded data removed]",
      "text/plain": [
       "<Figure size 1500x500 with 6 Axes>"
      ]
     },
     "metadata": {},
     "output_type": "display_data"
    }
   ],
   "source": [
    "import json\n",
    "import numpy as np\n",
    "import matplotlib.pyplot as plt\n",
    "from matplotlib.colors import LinearSegmentedColormap\n",
    "\n",
    "# Load the JSON data\n",
    "with open('results/dark_matter/dark_matter_results_our.json', 'r') as f:\n",
    "    data = json.load(f)\n",
    "\n",
    "# Filter for only 9b models\n",
    "data = [d for d in data if d['lm_name'] == 'google/gemma-2-9b']\n",
    "\n",
    "# Extract unique values for width and target_l0\n",
    "widths = sorted(list(set(d['width'] for d in data)))\n",
    "target_l0s = sorted(list(set(d['target_l0'] for d in data)))\n",
    "\n",
    "# Create meshgrid for contour plotting\n",
    "X, Y = np.meshgrid(widths, target_l0s)\n",
    "\n",
    "# Initialize arrays for metrics\n",
    "r2_error_norm = np.zeros((len(target_l0s), len(widths)))\n",
    "r2_error_vector = np.zeros_like(r2_error_norm)\n",
    "fvu_nonlinear = np.zeros_like(r2_error_norm)\n",
    "\n",
    "# Fill the arrays\n",
    "for d in data:\n",
    "    i = target_l0s.index(d['target_l0'])\n",
    "    j = widths.index(d['width'])\n",
    "    r2_error_norm[i, j] = d['r2_error_norm']\n",
    "    r2_error_vector[i, j] = d['r2_error_vector']\n",
    "    fvu_nonlinear[i, j] = d['fvu_nonlinear']\n",
    "\n",
    "# Create custom colormap from blue to red\n",
    "colors = ['#0000ff', '#ffffff', '#ff0000']\n",
    "n_bins = 100\n",
    "cmap = LinearSegmentedColormap.from_list(\"custom\", colors, N=n_bins)\n",
    "\n",
    "# Create the figure with three subplots\n",
    "fig, (ax1, ax2, ax3) = plt.subplots(1, 3, figsize=(15, 5))\n",
    "\n",
    "# Plot contours\n",
    "levels = 20\n",
    "plots = [\n",
    "    (ax1, r2_error_norm, 'R² Error Norm'),\n",
    "    (ax2, r2_error_vector, 'R² Error Vector'),\n",
    "    (ax3, fvu_nonlinear, 'FVU Nonlinear')\n",
    "]\n",
    "\n",
    "for ax, Z, title in plots:\n",
    "    cs = ax.contourf(X, Y, Z, levels=levels, cmap=cmap)\n",
    "    ax.set_xlabel('Width')\n",
    "    ax.set_ylabel('Target L0')\n",
    "    ax.set_title(title)\n",
    "    plt.colorbar(cs, ax=ax)\n",
    "    \n",
    "    # Set log scale\n",
    "    ax.set_xscale('log')\n",
    "    ax.set_yscale('log')\n",
    "    \n",
    "    # Add actual width and target_l0 values as ticks\n",
    "    ax.set_xticks(widths)\n",
    "    ax.set_yticks(target_l0s)\n",
    "    ax.set_xticklabels([f'{int(w)}' for w in widths], rotation=45)\n",
    "    ax.set_yticklabels([f'{int(t)}' for t in target_l0s])\n",
    "\n",
    "plt.tight_layout()\n",
    "plt.show()"
   ]
  },
  {
   "cell_type": "code",
   "execution_count": null,
   "metadata": {},
   "outputs": [],
   "source": []
  }
 ],
 "metadata": {
  "kernelspec": {
   "display_name": "sae-training",
   "language": "python",
   "name": "python3"
  },
  "language_info": {
   "codemirror_mode": {
    "name": "ipython",
    "version": 3
   },
   "file_extension": ".py",
   "mimetype": "text/x-python",
   "name": "python",
   "nbconvert_exporter": "python",
   "pygments_lexer": "ipython3",
   "version": "3.12.8"
  }
 },
 "nbformat": 4,
 "nbformat_minor": 2
}
